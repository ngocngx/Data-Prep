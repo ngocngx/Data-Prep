{
 "cells": [
  {
   "cell_type": "code",
   "execution_count": 1,
   "metadata": {},
   "outputs": [],
   "source": [
    "import pandas as pd\n",
    "import numpy as np"
   ]
  },
  {
   "cell_type": "code",
   "execution_count": 2,
   "metadata": {},
   "outputs": [
    {
     "data": {
      "text/html": [
       "<div>\n",
       "<style scoped>\n",
       "    .dataframe tbody tr th:only-of-type {\n",
       "        vertical-align: middle;\n",
       "    }\n",
       "\n",
       "    .dataframe tbody tr th {\n",
       "        vertical-align: top;\n",
       "    }\n",
       "\n",
       "    .dataframe thead th {\n",
       "        text-align: right;\n",
       "    }\n",
       "</style>\n",
       "<table border=\"1\" class=\"dataframe\">\n",
       "  <thead>\n",
       "    <tr style=\"text-align: right;\">\n",
       "      <th></th>\n",
       "      <th>Unnamed: 0</th>\n",
       "      <th>Mã đơn hàng</th>\n",
       "      <th>Tình trạng thanh toán</th>\n",
       "      <th>Tổng tiền</th>\n",
       "      <th>Tổng cộng</th>\n",
       "      <th>Số lượng sản phẩm</th>\n",
       "      <th>Tên sản phẩm</th>\n",
       "      <th>Giá sản phẩm</th>\n",
       "      <th>Phương thức thanh toán</th>\n",
       "    </tr>\n",
       "  </thead>\n",
       "  <tbody>\n",
       "    <tr>\n",
       "      <th>0</th>\n",
       "      <td>0</td>\n",
       "      <td>#100069</td>\n",
       "      <td>Đã thanh toán</td>\n",
       "      <td>3600000</td>\n",
       "      <td>3600000</td>\n",
       "      <td>6</td>\n",
       "      <td>Pop 1</td>\n",
       "      <td>600000</td>\n",
       "      <td>Chuyển khoản qua ngân hàng</td>\n",
       "    </tr>\n",
       "    <tr>\n",
       "      <th>1</th>\n",
       "      <td>1</td>\n",
       "      <td>#100068</td>\n",
       "      <td>Chờ xử lý</td>\n",
       "      <td>10249200</td>\n",
       "      <td>10249200</td>\n",
       "      <td>6</td>\n",
       "      <td>EM2</td>\n",
       "      <td>584000</td>\n",
       "      <td>Chuyển khoản qua ngân hàng</td>\n",
       "    </tr>\n",
       "    <tr>\n",
       "      <th>2</th>\n",
       "      <td>2</td>\n",
       "      <td>#100068</td>\n",
       "      <td>Chờ xử lý</td>\n",
       "      <td>10249200</td>\n",
       "      <td>10249200</td>\n",
       "      <td>6</td>\n",
       "      <td>Pop 2</td>\n",
       "      <td>569400</td>\n",
       "      <td>Chuyển khoản qua ngân hàng</td>\n",
       "    </tr>\n",
       "    <tr>\n",
       "      <th>3</th>\n",
       "      <td>3</td>\n",
       "      <td>#100068</td>\n",
       "      <td>Chờ xử lý</td>\n",
       "      <td>10249200</td>\n",
       "      <td>10249200</td>\n",
       "      <td>6</td>\n",
       "      <td>Pop 3</td>\n",
       "      <td>554800</td>\n",
       "      <td>Chuyển khoản qua ngân hàng</td>\n",
       "    </tr>\n",
       "    <tr>\n",
       "      <th>4</th>\n",
       "      <td>4</td>\n",
       "      <td>#100067</td>\n",
       "      <td>Đã thanh toán</td>\n",
       "      <td>3420000</td>\n",
       "      <td>3420000</td>\n",
       "      <td>6</td>\n",
       "      <td>Pop 3</td>\n",
       "      <td>570000</td>\n",
       "      <td>Chuyển khoản qua ngân hàng</td>\n",
       "    </tr>\n",
       "  </tbody>\n",
       "</table>\n",
       "</div>"
      ],
      "text/plain": [
       "   Unnamed: 0 Mã đơn hàng Tình trạng thanh toán  Tổng tiền  Tổng cộng  \\\n",
       "0           0     #100069         Đã thanh toán    3600000    3600000   \n",
       "1           1     #100068             Chờ xử lý   10249200   10249200   \n",
       "2           2     #100068             Chờ xử lý   10249200   10249200   \n",
       "3           3     #100068             Chờ xử lý   10249200   10249200   \n",
       "4           4     #100067         Đã thanh toán    3420000    3420000   \n",
       "\n",
       "   Số lượng sản phẩm Tên sản phẩm  Giá sản phẩm      Phương thức thanh toán  \n",
       "0                  6        Pop 1        600000  Chuyển khoản qua ngân hàng  \n",
       "1                  6          EM2        584000  Chuyển khoản qua ngân hàng  \n",
       "2                  6        Pop 2        569400  Chuyển khoản qua ngân hàng  \n",
       "3                  6        Pop 3        554800  Chuyển khoản qua ngân hàng  \n",
       "4                  6        Pop 3        570000  Chuyển khoản qua ngân hàng  "
      ]
     },
     "execution_count": 2,
     "metadata": {},
     "output_type": "execute_result"
    }
   ],
   "source": [
    "df = pd.read_csv('../data/order.csv')\n",
    "df.head()"
   ]
  },
  {
   "cell_type": "code",
   "execution_count": 3,
   "metadata": {},
   "outputs": [
    {
     "data": {
      "text/plain": [
       "Index(['Unnamed: 0', 'Mã đơn hàng', 'Tình trạng thanh toán', 'Tổng tiền',\n",
       "       'Tổng cộng', 'Số lượng sản phẩm', 'Tên sản phẩm', 'Giá sản phẩm',\n",
       "       'Phương thức thanh toán'],\n",
       "      dtype='object')"
      ]
     },
     "execution_count": 3,
     "metadata": {},
     "output_type": "execute_result"
    }
   ],
   "source": [
    "df.columns"
   ]
  },
  {
   "cell_type": "code",
   "execution_count": 4,
   "metadata": {},
   "outputs": [
    {
     "data": {
      "text/plain": [
       "(186, 9)"
      ]
     },
     "execution_count": 4,
     "metadata": {},
     "output_type": "execute_result"
    }
   ],
   "source": [
    "df.shape"
   ]
  },
  {
   "cell_type": "code",
   "execution_count": 5,
   "metadata": {},
   "outputs": [
    {
     "name": "stdout",
     "output_type": "stream",
     "text": [
      "<class 'pandas.core.frame.DataFrame'>\n",
      "RangeIndex: 186 entries, 0 to 185\n",
      "Data columns (total 9 columns):\n",
      " #   Column                  Non-Null Count  Dtype \n",
      "---  ------                  --------------  ----- \n",
      " 0   Unnamed: 0              186 non-null    int64 \n",
      " 1   Mã đơn hàng             186 non-null    object\n",
      " 2   Tình trạng thanh toán   186 non-null    object\n",
      " 3   Tổng tiền               186 non-null    int64 \n",
      " 4   Tổng cộng               186 non-null    int64 \n",
      " 5   Số lượng sản phẩm       186 non-null    int64 \n",
      " 6   Tên sản phẩm            186 non-null    object\n",
      " 7   Giá sản phẩm            186 non-null    int64 \n",
      " 8   Phương thức thanh toán  186 non-null    object\n",
      "dtypes: int64(5), object(4)\n",
      "memory usage: 13.2+ KB\n"
     ]
    }
   ],
   "source": [
    "df.info()"
   ]
  },
  {
   "cell_type": "code",
   "execution_count": 6,
   "metadata": {},
   "outputs": [
    {
     "data": {
      "text/plain": [
       "array(['Chuyển khoản qua ngân hàng', 'Thanh toán khi giao hàng (COD)'],\n",
       "      dtype=object)"
      ]
     },
     "execution_count": 6,
     "metadata": {},
     "output_type": "execute_result"
    }
   ],
   "source": [
    "df['Phương thức thanh toán'].unique()"
   ]
  },
  {
   "cell_type": "code",
   "execution_count": 7,
   "metadata": {},
   "outputs": [
    {
     "data": {
      "text/plain": [
       "array(['Đã thanh toán', 'Chờ xử lý'], dtype=object)"
      ]
     },
     "execution_count": 7,
     "metadata": {},
     "output_type": "execute_result"
    }
   ],
   "source": [
    "df['Tình trạng thanh toán'].unique()"
   ]
  },
  {
   "cell_type": "code",
   "execution_count": 8,
   "metadata": {},
   "outputs": [
    {
     "data": {
      "text/plain": [
       "0"
      ]
     },
     "execution_count": 8,
     "metadata": {},
     "output_type": "execute_result"
    }
   ],
   "source": [
    "df.duplicated().sum()"
   ]
  },
  {
   "cell_type": "code",
   "execution_count": 9,
   "metadata": {},
   "outputs": [
    {
     "data": {
      "text/html": [
       "<div>\n",
       "<style scoped>\n",
       "    .dataframe tbody tr th:only-of-type {\n",
       "        vertical-align: middle;\n",
       "    }\n",
       "\n",
       "    .dataframe tbody tr th {\n",
       "        vertical-align: top;\n",
       "    }\n",
       "\n",
       "    .dataframe thead th {\n",
       "        text-align: right;\n",
       "    }\n",
       "</style>\n",
       "<table border=\"1\" class=\"dataframe\">\n",
       "  <thead>\n",
       "    <tr style=\"text-align: right;\">\n",
       "      <th></th>\n",
       "      <th>Unnamed: 0</th>\n",
       "      <th>Mã đơn hàng</th>\n",
       "      <th>Tình trạng thanh toán</th>\n",
       "      <th>Tổng tiền</th>\n",
       "      <th>Tổng cộng</th>\n",
       "      <th>Số lượng sản phẩm</th>\n",
       "      <th>Tên sản phẩm</th>\n",
       "      <th>Giá sản phẩm</th>\n",
       "      <th>Phương thức thanh toán</th>\n",
       "      <th>Revenue</th>\n",
       "    </tr>\n",
       "  </thead>\n",
       "  <tbody>\n",
       "    <tr>\n",
       "      <th>0</th>\n",
       "      <td>0</td>\n",
       "      <td>#100069</td>\n",
       "      <td>Đã thanh toán</td>\n",
       "      <td>3600000</td>\n",
       "      <td>3600000</td>\n",
       "      <td>6</td>\n",
       "      <td>Pop 1</td>\n",
       "      <td>600000</td>\n",
       "      <td>Chuyển khoản qua ngân hàng</td>\n",
       "      <td>3600000</td>\n",
       "    </tr>\n",
       "    <tr>\n",
       "      <th>1</th>\n",
       "      <td>1</td>\n",
       "      <td>#100068</td>\n",
       "      <td>Chờ xử lý</td>\n",
       "      <td>10249200</td>\n",
       "      <td>10249200</td>\n",
       "      <td>6</td>\n",
       "      <td>EM2</td>\n",
       "      <td>584000</td>\n",
       "      <td>Chuyển khoản qua ngân hàng</td>\n",
       "      <td>3504000</td>\n",
       "    </tr>\n",
       "    <tr>\n",
       "      <th>2</th>\n",
       "      <td>2</td>\n",
       "      <td>#100068</td>\n",
       "      <td>Chờ xử lý</td>\n",
       "      <td>10249200</td>\n",
       "      <td>10249200</td>\n",
       "      <td>6</td>\n",
       "      <td>Pop 2</td>\n",
       "      <td>569400</td>\n",
       "      <td>Chuyển khoản qua ngân hàng</td>\n",
       "      <td>3416400</td>\n",
       "    </tr>\n",
       "    <tr>\n",
       "      <th>3</th>\n",
       "      <td>3</td>\n",
       "      <td>#100068</td>\n",
       "      <td>Chờ xử lý</td>\n",
       "      <td>10249200</td>\n",
       "      <td>10249200</td>\n",
       "      <td>6</td>\n",
       "      <td>Pop 3</td>\n",
       "      <td>554800</td>\n",
       "      <td>Chuyển khoản qua ngân hàng</td>\n",
       "      <td>3328800</td>\n",
       "    </tr>\n",
       "    <tr>\n",
       "      <th>4</th>\n",
       "      <td>4</td>\n",
       "      <td>#100067</td>\n",
       "      <td>Đã thanh toán</td>\n",
       "      <td>3420000</td>\n",
       "      <td>3420000</td>\n",
       "      <td>6</td>\n",
       "      <td>Pop 3</td>\n",
       "      <td>570000</td>\n",
       "      <td>Chuyển khoản qua ngân hàng</td>\n",
       "      <td>3420000</td>\n",
       "    </tr>\n",
       "    <tr>\n",
       "      <th>...</th>\n",
       "      <td>...</td>\n",
       "      <td>...</td>\n",
       "      <td>...</td>\n",
       "      <td>...</td>\n",
       "      <td>...</td>\n",
       "      <td>...</td>\n",
       "      <td>...</td>\n",
       "      <td>...</td>\n",
       "      <td>...</td>\n",
       "      <td>...</td>\n",
       "    </tr>\n",
       "    <tr>\n",
       "      <th>181</th>\n",
       "      <td>181</td>\n",
       "      <td>#100003</td>\n",
       "      <td>Chờ xử lý</td>\n",
       "      <td>5185000</td>\n",
       "      <td>5035000</td>\n",
       "      <td>1</td>\n",
       "      <td>Táo Bio</td>\n",
       "      <td>75000</td>\n",
       "      <td>Thanh toán khi giao hàng (COD)</td>\n",
       "      <td>75000</td>\n",
       "    </tr>\n",
       "    <tr>\n",
       "      <th>182</th>\n",
       "      <td>182</td>\n",
       "      <td>#100003</td>\n",
       "      <td>Chờ xử lý</td>\n",
       "      <td>5185000</td>\n",
       "      <td>5035000</td>\n",
       "      <td>1</td>\n",
       "      <td>Cà rốt</td>\n",
       "      <td>75000</td>\n",
       "      <td>Thanh toán khi giao hàng (COD)</td>\n",
       "      <td>75000</td>\n",
       "    </tr>\n",
       "    <tr>\n",
       "      <th>183</th>\n",
       "      <td>183</td>\n",
       "      <td>#100002</td>\n",
       "      <td>Chờ xử lý</td>\n",
       "      <td>1600000</td>\n",
       "      <td>1600000</td>\n",
       "      <td>2</td>\n",
       "      <td>EM1</td>\n",
       "      <td>800000</td>\n",
       "      <td>Chuyển khoản qua ngân hàng</td>\n",
       "      <td>1600000</td>\n",
       "    </tr>\n",
       "    <tr>\n",
       "      <th>184</th>\n",
       "      <td>184</td>\n",
       "      <td>#100001</td>\n",
       "      <td>Chờ xử lý</td>\n",
       "      <td>800000</td>\n",
       "      <td>800000</td>\n",
       "      <td>1</td>\n",
       "      <td>EM1</td>\n",
       "      <td>800000</td>\n",
       "      <td>Thanh toán khi giao hàng (COD)</td>\n",
       "      <td>800000</td>\n",
       "    </tr>\n",
       "    <tr>\n",
       "      <th>185</th>\n",
       "      <td>185</td>\n",
       "      <td>#100000</td>\n",
       "      <td>Chờ xử lý</td>\n",
       "      <td>800000</td>\n",
       "      <td>800000</td>\n",
       "      <td>1</td>\n",
       "      <td>EM1</td>\n",
       "      <td>800000</td>\n",
       "      <td>Thanh toán khi giao hàng (COD)</td>\n",
       "      <td>800000</td>\n",
       "    </tr>\n",
       "  </tbody>\n",
       "</table>\n",
       "<p>186 rows × 10 columns</p>\n",
       "</div>"
      ],
      "text/plain": [
       "     Unnamed: 0 Mã đơn hàng Tình trạng thanh toán  Tổng tiền  Tổng cộng  \\\n",
       "0             0     #100069         Đã thanh toán    3600000    3600000   \n",
       "1             1     #100068             Chờ xử lý   10249200   10249200   \n",
       "2             2     #100068             Chờ xử lý   10249200   10249200   \n",
       "3             3     #100068             Chờ xử lý   10249200   10249200   \n",
       "4             4     #100067         Đã thanh toán    3420000    3420000   \n",
       "..          ...         ...                   ...        ...        ...   \n",
       "181         181     #100003             Chờ xử lý    5185000    5035000   \n",
       "182         182     #100003             Chờ xử lý    5185000    5035000   \n",
       "183         183     #100002             Chờ xử lý    1600000    1600000   \n",
       "184         184     #100001             Chờ xử lý     800000     800000   \n",
       "185         185     #100000             Chờ xử lý     800000     800000   \n",
       "\n",
       "     Số lượng sản phẩm Tên sản phẩm  Giá sản phẩm  \\\n",
       "0                    6        Pop 1        600000   \n",
       "1                    6          EM2        584000   \n",
       "2                    6        Pop 2        569400   \n",
       "3                    6        Pop 3        554800   \n",
       "4                    6        Pop 3        570000   \n",
       "..                 ...          ...           ...   \n",
       "181                  1      Táo Bio         75000   \n",
       "182                  1       Cà rốt         75000   \n",
       "183                  2          EM1        800000   \n",
       "184                  1          EM1        800000   \n",
       "185                  1          EM1        800000   \n",
       "\n",
       "             Phương thức thanh toán  Revenue  \n",
       "0        Chuyển khoản qua ngân hàng  3600000  \n",
       "1        Chuyển khoản qua ngân hàng  3504000  \n",
       "2        Chuyển khoản qua ngân hàng  3416400  \n",
       "3        Chuyển khoản qua ngân hàng  3328800  \n",
       "4        Chuyển khoản qua ngân hàng  3420000  \n",
       "..                              ...      ...  \n",
       "181  Thanh toán khi giao hàng (COD)    75000  \n",
       "182  Thanh toán khi giao hàng (COD)    75000  \n",
       "183      Chuyển khoản qua ngân hàng  1600000  \n",
       "184  Thanh toán khi giao hàng (COD)   800000  \n",
       "185  Thanh toán khi giao hàng (COD)   800000  \n",
       "\n",
       "[186 rows x 10 columns]"
      ]
     },
     "execution_count": 9,
     "metadata": {},
     "output_type": "execute_result"
    }
   ],
   "source": [
    "df['Revenue'] = (df['Giá sản phẩm']*df['Số lượng sản phẩm'])\n",
    "df"
   ]
  },
  {
   "cell_type": "code",
   "execution_count": 10,
   "metadata": {},
   "outputs": [
    {
     "data": {
      "text/html": [
       "<div>\n",
       "<style scoped>\n",
       "    .dataframe tbody tr th:only-of-type {\n",
       "        vertical-align: middle;\n",
       "    }\n",
       "\n",
       "    .dataframe tbody tr th {\n",
       "        vertical-align: top;\n",
       "    }\n",
       "\n",
       "    .dataframe thead th {\n",
       "        text-align: right;\n",
       "    }\n",
       "</style>\n",
       "<table border=\"1\" class=\"dataframe\">\n",
       "  <thead>\n",
       "    <tr style=\"text-align: right;\">\n",
       "      <th></th>\n",
       "      <th>Unnamed: 0</th>\n",
       "      <th>Mã đơn hàng</th>\n",
       "      <th>Tình trạng thanh toán</th>\n",
       "      <th>Tổng tiền</th>\n",
       "      <th>Tổng cộng</th>\n",
       "      <th>Số lượng sản phẩm</th>\n",
       "      <th>Tên sản phẩm</th>\n",
       "      <th>Giá sản phẩm</th>\n",
       "      <th>Phương thức thanh toán</th>\n",
       "      <th>Revenue</th>\n",
       "    </tr>\n",
       "  </thead>\n",
       "  <tbody>\n",
       "    <tr>\n",
       "      <th>18</th>\n",
       "      <td>18</td>\n",
       "      <td>#100063</td>\n",
       "      <td>Đã thanh toán</td>\n",
       "      <td>800000</td>\n",
       "      <td>800000</td>\n",
       "      <td>1</td>\n",
       "      <td>Pop 1</td>\n",
       "      <td>800000</td>\n",
       "      <td>Thanh toán khi giao hàng (COD)</td>\n",
       "      <td>800000</td>\n",
       "    </tr>\n",
       "    <tr>\n",
       "      <th>21</th>\n",
       "      <td>21</td>\n",
       "      <td>#100061</td>\n",
       "      <td>Đã thanh toán</td>\n",
       "      <td>4380000</td>\n",
       "      <td>4380000</td>\n",
       "      <td>6</td>\n",
       "      <td>Pop 2</td>\n",
       "      <td>730000</td>\n",
       "      <td>Thanh toán khi giao hàng (COD)</td>\n",
       "      <td>4380000</td>\n",
       "    </tr>\n",
       "    <tr>\n",
       "      <th>33</th>\n",
       "      <td>33</td>\n",
       "      <td>#100056</td>\n",
       "      <td>Đã thanh toán</td>\n",
       "      <td>2520000</td>\n",
       "      <td>2520000</td>\n",
       "      <td>4</td>\n",
       "      <td>EM3</td>\n",
       "      <td>630000</td>\n",
       "      <td>Thanh toán khi giao hàng (COD)</td>\n",
       "      <td>2520000</td>\n",
       "    </tr>\n",
       "    <tr>\n",
       "      <th>34</th>\n",
       "      <td>34</td>\n",
       "      <td>#100055</td>\n",
       "      <td>Đã thanh toán</td>\n",
       "      <td>1600000</td>\n",
       "      <td>1600000</td>\n",
       "      <td>2</td>\n",
       "      <td>EM3</td>\n",
       "      <td>800000</td>\n",
       "      <td>Thanh toán khi giao hàng (COD)</td>\n",
       "      <td>1600000</td>\n",
       "    </tr>\n",
       "    <tr>\n",
       "      <th>35</th>\n",
       "      <td>35</td>\n",
       "      <td>#100054</td>\n",
       "      <td>Đã thanh toán</td>\n",
       "      <td>800000</td>\n",
       "      <td>800000</td>\n",
       "      <td>1</td>\n",
       "      <td>EM1</td>\n",
       "      <td>800000</td>\n",
       "      <td>Thanh toán khi giao hàng (COD)</td>\n",
       "      <td>800000</td>\n",
       "    </tr>\n",
       "  </tbody>\n",
       "</table>\n",
       "</div>"
      ],
      "text/plain": [
       "    Unnamed: 0 Mã đơn hàng Tình trạng thanh toán  Tổng tiền  Tổng cộng  \\\n",
       "18          18     #100063         Đã thanh toán     800000     800000   \n",
       "21          21     #100061         Đã thanh toán    4380000    4380000   \n",
       "33          33     #100056         Đã thanh toán    2520000    2520000   \n",
       "34          34     #100055         Đã thanh toán    1600000    1600000   \n",
       "35          35     #100054         Đã thanh toán     800000     800000   \n",
       "\n",
       "    Số lượng sản phẩm Tên sản phẩm  Giá sản phẩm  \\\n",
       "18                  1        Pop 1        800000   \n",
       "21                  6        Pop 2        730000   \n",
       "33                  4          EM3        630000   \n",
       "34                  2          EM3        800000   \n",
       "35                  1          EM1        800000   \n",
       "\n",
       "            Phương thức thanh toán  Revenue  \n",
       "18  Thanh toán khi giao hàng (COD)   800000  \n",
       "21  Thanh toán khi giao hàng (COD)  4380000  \n",
       "33  Thanh toán khi giao hàng (COD)  2520000  \n",
       "34  Thanh toán khi giao hàng (COD)  1600000  \n",
       "35  Thanh toán khi giao hàng (COD)   800000  "
      ]
     },
     "execution_count": 10,
     "metadata": {},
     "output_type": "execute_result"
    }
   ],
   "source": [
    "cod_df = df[(df['Phương thức thanh toán'] == 'Thanh toán khi giao hàng (COD)') & (df['Tình trạng thanh toán'] == 'Đã thanh toán')]\n",
    "cod_df.head()"
   ]
  },
  {
   "cell_type": "code",
   "execution_count": 11,
   "metadata": {},
   "outputs": [
    {
     "name": "stdout",
     "output_type": "stream",
     "text": [
      "Tổng doanh thu COD: 17,901,000\n"
     ]
    }
   ],
   "source": [
    "print('Tổng doanh thu COD: {:,}'.format(sum(cod_df['Revenue'])))"
   ]
  },
  {
   "cell_type": "markdown",
   "metadata": {},
   "source": []
  }
 ],
 "metadata": {
  "kernelspec": {
   "display_name": "venv",
   "language": "python",
   "name": "python3"
  },
  "language_info": {
   "codemirror_mode": {
    "name": "ipython",
    "version": 3
   },
   "file_extension": ".py",
   "mimetype": "text/x-python",
   "name": "python",
   "nbconvert_exporter": "python",
   "pygments_lexer": "ipython3",
   "version": "3.10.8"
  },
  "orig_nbformat": 4
 },
 "nbformat": 4,
 "nbformat_minor": 2
}
