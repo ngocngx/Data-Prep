{
 "cells": [
  {
   "cell_type": "code",
   "execution_count": null,
   "id": "0a9ebfa9",
   "metadata": {},
   "outputs": [],
   "source": [
    "import pandas as pd\n",
    "import numpy as np"
   ]
  },
  {
   "cell_type": "code",
   "execution_count": null,
   "id": "41aaf445",
   "metadata": {},
   "outputs": [],
   "source": [
    "curr_series = pd.Series(['Swiss franc','Iceland krona','Danish krone',\\\n",
    "              'Norwegian krone','Canadian dollar'])"
   ]
  },
  {
   "cell_type": "code",
   "execution_count": null,
   "id": "11e8c3db",
   "metadata": {},
   "outputs": [],
   "source": [
    "'Swiss france'.split()[1]"
   ]
  },
  {
   "cell_type": "code",
   "execution_count": null,
   "id": "62486da3",
   "metadata": {},
   "outputs": [],
   "source": [
    "curr_series.apply(lambda x: x.split()[1])"
   ]
  },
  {
   "cell_type": "code",
   "execution_count": null,
   "id": "c1d55ccf",
   "metadata": {},
   "outputs": [],
   "source": [
    "curr_series.str.split().str.get(1)"
   ]
  },
  {
   "cell_type": "code",
   "execution_count": null,
   "id": "ee9510ad",
   "metadata": {},
   "outputs": [],
   "source": [
    "s = pd.Series(\n",
    "    [\"this is a regular sentence\",\\\n",
    "     \"https://docs.python.org/3/tutorial/index.html\",np.nan\n",
    "    ])"
   ]
  },
  {
   "cell_type": "code",
   "execution_count": null,
   "id": "7a795821",
   "metadata": {},
   "outputs": [],
   "source": [
    "s.str.split(' ')"
   ]
  },
  {
   "cell_type": "code",
   "execution_count": null,
   "id": "5d86f894",
   "metadata": {},
   "outputs": [],
   "source": [
    "s.str.split(n=1)"
   ]
  },
  {
   "cell_type": "code",
   "execution_count": null,
   "id": "c75cc6f2",
   "metadata": {},
   "outputs": [],
   "source": [
    "s.str.rsplit(n=1)"
   ]
  },
  {
   "cell_type": "code",
   "execution_count": null,
   "id": "a2161494",
   "metadata": {},
   "outputs": [],
   "source": [
    "s.str.split('/')"
   ]
  },
  {
   "cell_type": "code",
   "execution_count": null,
   "id": "3cb87645",
   "metadata": {},
   "outputs": [],
   "source": [
    "s.str.split(expand=True)"
   ]
  },
  {
   "cell_type": "markdown",
   "id": "00bb713b",
   "metadata": {},
   "source": [
    "pd.Series.str.strip"
   ]
  },
  {
   "cell_type": "code",
   "execution_count": null,
   "id": "3f64b884",
   "metadata": {},
   "outputs": [],
   "source": [
    "s = pd.Series(['1. Ant.  ', '2. Bee!\\n', '3. Cat?\\t', np.nan])\n",
    "s"
   ]
  },
  {
   "cell_type": "code",
   "execution_count": null,
   "id": "9cfccaa2",
   "metadata": {},
   "outputs": [],
   "source": [
    "s.str.strip()"
   ]
  },
  {
   "cell_type": "code",
   "execution_count": null,
   "id": "08fcf5a0",
   "metadata": {},
   "outputs": [],
   "source": [
    "###You can specify the set of characters to be removed\n",
    "s.str.strip('123.!? \\n\\t')"
   ]
  },
  {
   "cell_type": "code",
   "execution_count": null,
   "id": "0f3f4dc1",
   "metadata": {},
   "outputs": [],
   "source": [
    "s.str.upper()"
   ]
  },
  {
   "cell_type": "code",
   "execution_count": null,
   "id": "967ae163",
   "metadata": {},
   "outputs": [],
   "source": [
    "s.str.get(3)"
   ]
  },
  {
   "cell_type": "code",
   "execution_count": null,
   "id": "4303a4b2",
   "metadata": {},
   "outputs": [],
   "source": [
    "s2 = pd.Series(['foo','fuz',np.nan])\n",
    "s2.str.replace('f.','ba',regex=False)"
   ]
  },
  {
   "cell_type": "code",
   "execution_count": null,
   "id": "d626e662",
   "metadata": {},
   "outputs": [],
   "source": [
    "s2.str.replace('f.','ba',regex=True)"
   ]
  },
  {
   "cell_type": "code",
   "execution_count": null,
   "id": "07954d81",
   "metadata": {},
   "outputs": [],
   "source": [
    "s2 = pd.Series(['f\\noo','fuz',np.nan])\n",
    "s2.str.replace('f.','ba',regex=False)"
   ]
  },
  {
   "cell_type": "code",
   "execution_count": null,
   "id": "96072469",
   "metadata": {},
   "outputs": [],
   "source": [
    "import pandas as pd\n",
    "import numpy as np\n",
    "import re"
   ]
  },
  {
   "cell_type": "code",
   "execution_count": null,
   "id": "4c5fbbb4",
   "metadata": {},
   "outputs": [],
   "source": [
    "s2 = pd.Series(['Foo','fuz',np.nan])\n",
    "s2.str.replace('f.','ba',regex=True,case=True)"
   ]
  },
  {
   "cell_type": "code",
   "execution_count": null,
   "id": "3cde40fb",
   "metadata": {},
   "outputs": [],
   "source": [
    "s2 = pd.Series(['Foo','fuz',np.nan])\n",
    "s2.str.replace('f','ba',regex=True,flags = re.IGNORECASE)"
   ]
  },
  {
   "cell_type": "code",
   "execution_count": null,
   "id": "399f7587",
   "metadata": {},
   "outputs": [],
   "source": [
    "regex = re.compile('f.',flags = re.IGNORECASE)\n",
    "s2.str.replace(regex,'ba',regex=True)"
   ]
  },
  {
   "cell_type": "markdown",
   "id": "74b1ffe4",
   "metadata": {},
   "source": [
    "'.': matching any character except newline. Ex: 'ab.def' -> match ('abcdef','ab9def')"
   ]
  },
  {
   "cell_type": "markdown",
   "id": "8dc3c224",
   "metadata": {},
   "source": [
    "series.str.contains()"
   ]
  },
  {
   "cell_type": "code",
   "execution_count": null,
   "id": "2d27bd9f",
   "metadata": {},
   "outputs": [],
   "source": [
    "s1 = pd.Series(['Lion','MOnkey','Rabbit'])\n",
    "s1.str.match('\\w+on',flags = re.IGNORECASE)"
   ]
  },
  {
   "cell_type": "code",
   "execution_count": null,
   "id": "a3db2e4d",
   "metadata": {},
   "outputs": [],
   "source": [
    "s1 = pd.Series(['Mouse', 'dog', 'house and parrot', '23', np.NaN])"
   ]
  },
  {
   "cell_type": "code",
   "execution_count": null,
   "id": "b3dfd55c",
   "metadata": {},
   "outputs": [],
   "source": [
    "s1"
   ]
  },
  {
   "cell_type": "code",
   "execution_count": null,
   "id": "4730070a",
   "metadata": {},
   "outputs": [],
   "source": [
    "s1.str.contains('og',regex=False)"
   ]
  },
  {
   "cell_type": "code",
   "execution_count": null,
   "id": "39250e0c",
   "metadata": {},
   "outputs": [],
   "source": [
    "###specifying case sensitivity using case\n",
    "s1.str.contains('oG',case=False,regex=False)"
   ]
  },
  {
   "cell_type": "code",
   "execution_count": null,
   "id": "0eaf3722",
   "metadata": {},
   "outputs": [],
   "source": [
    "s1[s1.str.contains('oG',case=False,regex=False).notnull()]"
   ]
  },
  {
   "cell_type": "markdown",
   "id": "6c4ebcf7",
   "metadata": {},
   "source": [
    "pd.series.str.extract()\n",
    "-Extract capture groups in the regex pat as columns in a DataFrame."
   ]
  },
  {
   "cell_type": "code",
   "execution_count": null,
   "id": "9ba4c060",
   "metadata": {},
   "outputs": [],
   "source": [
    "s = pd.Series(['a1', 'b2', 'c3'])\n",
    "s.str.extract(r'([ab])')"
   ]
  },
  {
   "cell_type": "code",
   "execution_count": null,
   "id": "4f2e599a",
   "metadata": {},
   "outputs": [],
   "source": [
    "s.str.extract(r'([ab])',expand=False)"
   ]
  },
  {
   "cell_type": "code",
   "execution_count": null,
   "id": "bae837dc",
   "metadata": {},
   "outputs": [],
   "source": [
    "s.str.extract(r'([ab])?(\\d)')"
   ]
  },
  {
   "cell_type": "code",
   "execution_count": null,
   "id": "ea128561",
   "metadata": {},
   "outputs": [],
   "source": [
    "###named groups will become column names in the result\n",
    "s.str.extract(r'(?P<letter>[ab])(?P<digit>\\d)')"
   ]
  },
  {
   "cell_type": "code",
   "execution_count": null,
   "id": "6672d297",
   "metadata": {},
   "outputs": [],
   "source": [
    "s = pd.Series(['a1a2', 'b1', 'c1'])\n",
    "result = s.str.extractall(r'[ab](\\d)')\n",
    "result.reset_index()"
   ]
  },
  {
   "cell_type": "markdown",
   "id": "47de1612",
   "metadata": {},
   "source": [
    "series.str.findall()"
   ]
  },
  {
   "cell_type": "code",
   "execution_count": null,
   "id": "17b5334c",
   "metadata": {},
   "outputs": [],
   "source": [
    "s = pd.Series(['Lion Monkey', 'Monkey Monkey', 'Rabbit'])\n",
    "s.str.findall('Monkey')"
   ]
  },
  {
   "cell_type": "code",
   "execution_count": null,
   "id": "f84a612c",
   "metadata": {},
   "outputs": [],
   "source": [
    "# importing regex\n",
    "import re\n",
    "  \n",
    "# Regex Lookbehind example\n",
    "example = re.search(r'(?<=geeks)\\w', \n",
    "                    'geeksforgeeks')\n",
    "  \n",
    "print(example.group())\n",
    "print(\"Pattern found from index\", \n",
    "      example.start(), example.end())"
   ]
  },
  {
   "cell_type": "code",
   "execution_count": null,
   "id": "d37f8197",
   "metadata": {},
   "outputs": [],
   "source": [
    "# Using lookbehind\n",
    "example1 = re.search(r'(?<=[a-z])\\d',\n",
    "                     \"geeks12\")\n",
    "print(example1.group())\n",
    "  \n",
    "# Without using lookbehind\n",
    "example2 = re.search(r'([a-z])\\d',\n",
    "                     \"geeks12\")\n",
    "print(example2.group())"
   ]
  },
  {
   "cell_type": "code",
   "execution_count": null,
   "id": "eabb5f9c",
   "metadata": {},
   "outputs": [],
   "source": [
    "example3 = re.search(r'(?<=[a-z])(?=[A-Z])',\n",
    "                     \"TotalPrice\")\n",
    "print(example3.group())"
   ]
  },
  {
   "cell_type": "code",
   "execution_count": null,
   "id": "b3c57541",
   "metadata": {},
   "outputs": [],
   "source": [
    "example3 = re.search(r'(?<=[a-z])(?=[A-Z])',\n",
    "                     \"TotalPrice\")\n",
    "print(example3.group())"
   ]
  },
  {
   "cell_type": "code",
   "execution_count": null,
   "id": "49a622f2",
   "metadata": {},
   "outputs": [],
   "source": [
    "pd.Series([\"TotalPrice\",'dateCreated']).str.replace(r'(?<=[a-z])([A-Z])','_',regex=True)"
   ]
  },
  {
   "cell_type": "code",
   "execution_count": null,
   "id": "f3e6c07f",
   "metadata": {},
   "outputs": [],
   "source": [
    "pd.Series([\"TotalPrice\",'dateCreated']).str.replace(r'(?<=[a-z])(?=[A-Z])','_',regex=True)"
   ]
  },
  {
   "cell_type": "code",
   "execution_count": null,
   "id": "bcb0ef6f",
   "metadata": {},
   "outputs": [],
   "source": [
    "print('abcd\\nde')"
   ]
  },
  {
   "cell_type": "code",
   "execution_count": null,
   "id": "66454925",
   "metadata": {},
   "outputs": [],
   "source": [
    "pd.Series([\"Total\\\\nPrice\",'dateCreated']).str.replace(r'\\n','_')"
   ]
  }
 ],
 "metadata": {
  "kernelspec": {
   "display_name": "Python 3 (ipykernel)",
   "language": "python",
   "name": "python3"
  },
  "language_info": {
   "codemirror_mode": {
    "name": "ipython",
    "version": 3
   },
   "file_extension": ".py",
   "mimetype": "text/x-python",
   "name": "python",
   "nbconvert_exporter": "python",
   "pygments_lexer": "ipython3",
   "version": "3.9.7"
  }
 },
 "nbformat": 4,
 "nbformat_minor": 5
}
