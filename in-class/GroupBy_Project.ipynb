{
 "cells": [
  {
   "cell_type": "markdown",
   "id": "eab07a06",
   "metadata": {},
   "source": [
    " 1. Read the World_Happiness_2015.csv file into a DataFrame\n"
   ]
  },
  {
   "cell_type": "code",
   "execution_count": 2,
   "id": "a48ccb52",
   "metadata": {},
   "outputs": [],
   "source": [
    "import pandas as pd\n",
    "df = pd.read_csv('D:\\\\Data Preparation\\\\Data\\\\World_Happiness_2015.csv')"
   ]
  },
  {
   "cell_type": "code",
   "execution_count": 3,
   "id": "f6506d6f",
   "metadata": {},
   "outputs": [
    {
     "data": {
      "text/plain": [
       "(158, 12)"
      ]
     },
     "execution_count": 3,
     "metadata": {},
     "output_type": "execute_result"
    }
   ],
   "source": [
    "df.shape"
   ]
  },
  {
   "cell_type": "code",
   "execution_count": 4,
   "id": "3f8c28e0",
   "metadata": {},
   "outputs": [
    {
     "data": {
      "text/plain": [
       "Index(['Country', 'Region', 'Happiness Rank', 'Happiness Score',\n",
       "       'Standard Error', 'Economy (GDP per Capita)', 'Family',\n",
       "       'Health (Life Expectancy)', 'Freedom', 'Trust (Government Corruption)',\n",
       "       'Generosity', 'Dystopia Residual'],\n",
       "      dtype='object')"
      ]
     },
     "execution_count": 4,
     "metadata": {},
     "output_type": "execute_result"
    }
   ],
   "source": [
    "df.columns"
   ]
  },
  {
   "cell_type": "markdown",
   "id": "72dd0d68",
   "metadata": {},
   "source": [
    "2. Print the first five rows of the DataFrame to become familiar with the data\n"
   ]
  },
  {
   "cell_type": "code",
   "execution_count": 5,
   "id": "4c4bbbdf",
   "metadata": {},
   "outputs": [
    {
     "data": {
      "text/html": [
       "<div>\n",
       "<style scoped>\n",
       "    .dataframe tbody tr th:only-of-type {\n",
       "        vertical-align: middle;\n",
       "    }\n",
       "\n",
       "    .dataframe tbody tr th {\n",
       "        vertical-align: top;\n",
       "    }\n",
       "\n",
       "    .dataframe thead th {\n",
       "        text-align: right;\n",
       "    }\n",
       "</style>\n",
       "<table border=\"1\" class=\"dataframe\">\n",
       "  <thead>\n",
       "    <tr style=\"text-align: right;\">\n",
       "      <th></th>\n",
       "      <th>Country</th>\n",
       "      <th>Region</th>\n",
       "      <th>Happiness Rank</th>\n",
       "      <th>Happiness Score</th>\n",
       "      <th>Standard Error</th>\n",
       "      <th>Economy (GDP per Capita)</th>\n",
       "      <th>Family</th>\n",
       "      <th>Health (Life Expectancy)</th>\n",
       "      <th>Freedom</th>\n",
       "      <th>Trust (Government Corruption)</th>\n",
       "      <th>Generosity</th>\n",
       "      <th>Dystopia Residual</th>\n",
       "    </tr>\n",
       "  </thead>\n",
       "  <tbody>\n",
       "    <tr>\n",
       "      <th>0</th>\n",
       "      <td>Switzerland</td>\n",
       "      <td>Western Europe</td>\n",
       "      <td>1</td>\n",
       "      <td>7.587</td>\n",
       "      <td>0.03411</td>\n",
       "      <td>1.39651</td>\n",
       "      <td>1.34951</td>\n",
       "      <td>0.94143</td>\n",
       "      <td>0.66557</td>\n",
       "      <td>0.41978</td>\n",
       "      <td>0.29678</td>\n",
       "      <td>2.51738</td>\n",
       "    </tr>\n",
       "    <tr>\n",
       "      <th>1</th>\n",
       "      <td>Iceland</td>\n",
       "      <td>Western Europe</td>\n",
       "      <td>2</td>\n",
       "      <td>7.561</td>\n",
       "      <td>0.04884</td>\n",
       "      <td>1.30232</td>\n",
       "      <td>1.40223</td>\n",
       "      <td>0.94784</td>\n",
       "      <td>0.62877</td>\n",
       "      <td>0.14145</td>\n",
       "      <td>0.43630</td>\n",
       "      <td>2.70201</td>\n",
       "    </tr>\n",
       "    <tr>\n",
       "      <th>2</th>\n",
       "      <td>Denmark</td>\n",
       "      <td>Western Europe</td>\n",
       "      <td>3</td>\n",
       "      <td>7.527</td>\n",
       "      <td>0.03328</td>\n",
       "      <td>1.32548</td>\n",
       "      <td>1.36058</td>\n",
       "      <td>0.87464</td>\n",
       "      <td>0.64938</td>\n",
       "      <td>0.48357</td>\n",
       "      <td>0.34139</td>\n",
       "      <td>2.49204</td>\n",
       "    </tr>\n",
       "    <tr>\n",
       "      <th>3</th>\n",
       "      <td>Norway</td>\n",
       "      <td>Western Europe</td>\n",
       "      <td>4</td>\n",
       "      <td>7.522</td>\n",
       "      <td>0.03880</td>\n",
       "      <td>1.45900</td>\n",
       "      <td>1.33095</td>\n",
       "      <td>0.88521</td>\n",
       "      <td>0.66973</td>\n",
       "      <td>0.36503</td>\n",
       "      <td>0.34699</td>\n",
       "      <td>2.46531</td>\n",
       "    </tr>\n",
       "    <tr>\n",
       "      <th>4</th>\n",
       "      <td>Canada</td>\n",
       "      <td>North America</td>\n",
       "      <td>5</td>\n",
       "      <td>7.427</td>\n",
       "      <td>0.03553</td>\n",
       "      <td>1.32629</td>\n",
       "      <td>1.32261</td>\n",
       "      <td>0.90563</td>\n",
       "      <td>0.63297</td>\n",
       "      <td>0.32957</td>\n",
       "      <td>0.45811</td>\n",
       "      <td>2.45176</td>\n",
       "    </tr>\n",
       "  </tbody>\n",
       "</table>\n",
       "</div>"
      ],
      "text/plain": [
       "       Country          Region  Happiness Rank  Happiness Score  \\\n",
       "0  Switzerland  Western Europe               1            7.587   \n",
       "1      Iceland  Western Europe               2            7.561   \n",
       "2      Denmark  Western Europe               3            7.527   \n",
       "3       Norway  Western Europe               4            7.522   \n",
       "4       Canada   North America               5            7.427   \n",
       "\n",
       "   Standard Error  Economy (GDP per Capita)   Family  \\\n",
       "0         0.03411                   1.39651  1.34951   \n",
       "1         0.04884                   1.30232  1.40223   \n",
       "2         0.03328                   1.32548  1.36058   \n",
       "3         0.03880                   1.45900  1.33095   \n",
       "4         0.03553                   1.32629  1.32261   \n",
       "\n",
       "   Health (Life Expectancy)  Freedom  Trust (Government Corruption)  \\\n",
       "0                   0.94143  0.66557                        0.41978   \n",
       "1                   0.94784  0.62877                        0.14145   \n",
       "2                   0.87464  0.64938                        0.48357   \n",
       "3                   0.88521  0.66973                        0.36503   \n",
       "4                   0.90563  0.63297                        0.32957   \n",
       "\n",
       "   Generosity  Dystopia Residual  \n",
       "0     0.29678            2.51738  \n",
       "1     0.43630            2.70201  \n",
       "2     0.34139            2.49204  \n",
       "3     0.34699            2.46531  \n",
       "4     0.45811            2.45176  "
      ]
     },
     "execution_count": 5,
     "metadata": {},
     "output_type": "execute_result"
    }
   ],
   "source": [
    "df.head()"
   ]
  },
  {
   "cell_type": "markdown",
   "id": "530e4c0c",
   "metadata": {},
   "source": [
    "3. Use the DataFrame.info() method to print information about the DataFrame"
   ]
  },
  {
   "cell_type": "code",
   "execution_count": 6,
   "id": "be768970",
   "metadata": {},
   "outputs": [
    {
     "name": "stdout",
     "output_type": "stream",
     "text": [
      "<class 'pandas.core.frame.DataFrame'>\n",
      "RangeIndex: 158 entries, 0 to 157\n",
      "Data columns (total 12 columns):\n",
      " #   Column                         Non-Null Count  Dtype  \n",
      "---  ------                         --------------  -----  \n",
      " 0   Country                        158 non-null    object \n",
      " 1   Region                         158 non-null    object \n",
      " 2   Happiness Rank                 158 non-null    int64  \n",
      " 3   Happiness Score                158 non-null    float64\n",
      " 4   Standard Error                 158 non-null    float64\n",
      " 5   Economy (GDP per Capita)       158 non-null    float64\n",
      " 6   Family                         158 non-null    float64\n",
      " 7   Health (Life Expectancy)       158 non-null    float64\n",
      " 8   Freedom                        158 non-null    float64\n",
      " 9   Trust (Government Corruption)  158 non-null    float64\n",
      " 10  Generosity                     158 non-null    float64\n",
      " 11  Dystopia Residual              158 non-null    float64\n",
      "dtypes: float64(9), int64(1), object(2)\n",
      "memory usage: 14.9+ KB\n"
     ]
    }
   ],
   "source": [
    "df.info()"
   ]
  },
  {
   "cell_type": "markdown",
   "id": "148ec91d",
   "metadata": {},
   "source": [
    "4. Use the df.groupby() method to group happiness2015 by the Region column. Assign the result to grouped"
   ]
  },
  {
   "cell_type": "code",
   "execution_count": 5,
   "id": "4c63ad59",
   "metadata": {},
   "outputs": [],
   "source": [
    "grouped = df.groupby('Region')"
   ]
  },
  {
   "cell_type": "markdown",
   "id": "fa6d30da",
   "metadata": {},
   "source": [
    "5. Select only the Happiness Score column from grouped. Assign the result to happy_grouped"
   ]
  },
  {
   "cell_type": "code",
   "execution_count": 7,
   "id": "719b3699",
   "metadata": {},
   "outputs": [],
   "source": [
    "happy_grouped = grouped['Happiness Score']"
   ]
  },
  {
   "cell_type": "markdown",
   "id": "69ecf06a",
   "metadata": {},
   "source": [
    "6. Use the GroupBy.mean() method to compute the mean of happy_grouped. Assign the result to happy_mean"
   ]
  },
  {
   "cell_type": "code",
   "execution_count": 8,
   "id": "ded6e65a",
   "metadata": {},
   "outputs": [],
   "source": [
    "happy_mean = happy_grouped.mean()"
   ]
  },
  {
   "cell_type": "code",
   "execution_count": 9,
   "id": "ea5ff8ed",
   "metadata": {},
   "outputs": [
    {
     "data": {
      "text/plain": [
       "Region\n",
       "Australia and New Zealand          7.285000\n",
       "Central and Eastern Europe         5.332931\n",
       "Eastern Asia                       5.626167\n",
       "Latin America and Caribbean        6.144682\n",
       "Middle East and Northern Africa    5.406900\n",
       "North America                      7.273000\n",
       "Southeastern Asia                  5.317444\n",
       "Southern Asia                      4.580857\n",
       "Sub-Saharan Africa                 4.202800\n",
       "Western Europe                     6.689619\n",
       "Name: Happiness Score, dtype: float64"
      ]
     },
     "execution_count": 9,
     "metadata": {},
     "output_type": "execute_result"
    }
   ],
   "source": [
    "happy_mean"
   ]
  },
  {
   "cell_type": "markdown",
   "id": "30f76548",
   "metadata": {},
   "source": [
    "7. Apply the GroupBy.agg() method to happy_grouped. Pass a list containing np.mean and np.max into the method. Assign the result to happy_mean_max"
   ]
  },
  {
   "cell_type": "code",
   "execution_count": 11,
   "id": "081a5781",
   "metadata": {},
   "outputs": [],
   "source": [
    "import numpy as np\n",
    "happy_mean_max = happy_grouped.agg([np.mean,np.max])"
   ]
  },
  {
   "cell_type": "code",
   "execution_count": 12,
   "id": "6a53cd68",
   "metadata": {},
   "outputs": [
    {
     "data": {
      "text/html": [
       "<div>\n",
       "<style scoped>\n",
       "    .dataframe tbody tr th:only-of-type {\n",
       "        vertical-align: middle;\n",
       "    }\n",
       "\n",
       "    .dataframe tbody tr th {\n",
       "        vertical-align: top;\n",
       "    }\n",
       "\n",
       "    .dataframe thead th {\n",
       "        text-align: right;\n",
       "    }\n",
       "</style>\n",
       "<table border=\"1\" class=\"dataframe\">\n",
       "  <thead>\n",
       "    <tr style=\"text-align: right;\">\n",
       "      <th></th>\n",
       "      <th>mean</th>\n",
       "      <th>amax</th>\n",
       "    </tr>\n",
       "    <tr>\n",
       "      <th>Region</th>\n",
       "      <th></th>\n",
       "      <th></th>\n",
       "    </tr>\n",
       "  </thead>\n",
       "  <tbody>\n",
       "    <tr>\n",
       "      <th>Australia and New Zealand</th>\n",
       "      <td>7.285000</td>\n",
       "      <td>7.286</td>\n",
       "    </tr>\n",
       "    <tr>\n",
       "      <th>Central and Eastern Europe</th>\n",
       "      <td>5.332931</td>\n",
       "      <td>6.505</td>\n",
       "    </tr>\n",
       "    <tr>\n",
       "      <th>Eastern Asia</th>\n",
       "      <td>5.626167</td>\n",
       "      <td>6.298</td>\n",
       "    </tr>\n",
       "    <tr>\n",
       "      <th>Latin America and Caribbean</th>\n",
       "      <td>6.144682</td>\n",
       "      <td>7.226</td>\n",
       "    </tr>\n",
       "    <tr>\n",
       "      <th>Middle East and Northern Africa</th>\n",
       "      <td>5.406900</td>\n",
       "      <td>7.278</td>\n",
       "    </tr>\n",
       "    <tr>\n",
       "      <th>North America</th>\n",
       "      <td>7.273000</td>\n",
       "      <td>7.427</td>\n",
       "    </tr>\n",
       "    <tr>\n",
       "      <th>Southeastern Asia</th>\n",
       "      <td>5.317444</td>\n",
       "      <td>6.798</td>\n",
       "    </tr>\n",
       "    <tr>\n",
       "      <th>Southern Asia</th>\n",
       "      <td>4.580857</td>\n",
       "      <td>5.253</td>\n",
       "    </tr>\n",
       "    <tr>\n",
       "      <th>Sub-Saharan Africa</th>\n",
       "      <td>4.202800</td>\n",
       "      <td>5.477</td>\n",
       "    </tr>\n",
       "    <tr>\n",
       "      <th>Western Europe</th>\n",
       "      <td>6.689619</td>\n",
       "      <td>7.587</td>\n",
       "    </tr>\n",
       "  </tbody>\n",
       "</table>\n",
       "</div>"
      ],
      "text/plain": [
       "                                     mean   amax\n",
       "Region                                          \n",
       "Australia and New Zealand        7.285000  7.286\n",
       "Central and Eastern Europe       5.332931  6.505\n",
       "Eastern Asia                     5.626167  6.298\n",
       "Latin America and Caribbean      6.144682  7.226\n",
       "Middle East and Northern Africa  5.406900  7.278\n",
       "North America                    7.273000  7.427\n",
       "Southeastern Asia                5.317444  6.798\n",
       "Southern Asia                    4.580857  5.253\n",
       "Sub-Saharan Africa               4.202800  5.477\n",
       "Western Europe                   6.689619  7.587"
      ]
     },
     "execution_count": 12,
     "metadata": {},
     "output_type": "execute_result"
    }
   ],
   "source": [
    "happy_mean_max"
   ]
  },
  {
   "cell_type": "markdown",
   "id": "553b3f9c",
   "metadata": {},
   "source": [
    "8. Create a custom function named dif to calculate the difference between the mean and maximum values. Pass dif into the GroupBy.agg() method. Assign the result to mean_max_dif\n"
   ]
  },
  {
   "cell_type": "code",
   "execution_count": 13,
   "id": "0f3fe548",
   "metadata": {},
   "outputs": [],
   "source": [
    "def dif(x):\n",
    "    return x.max() - x.mean()\n",
    "mean_max_dif = happy_grouped.agg(dif)"
   ]
  },
  {
   "cell_type": "code",
   "execution_count": 15,
   "id": "8cbd4f5f",
   "metadata": {},
   "outputs": [
    {
     "data": {
      "text/plain": [
       "Region\n",
       "Middle East and Northern Africa    1.871100\n",
       "Southeastern Asia                  1.480556\n",
       "Sub-Saharan Africa                 1.274200\n",
       "Central and Eastern Europe         1.172069\n",
       "Latin America and Caribbean        1.081318\n",
       "Western Europe                     0.897381\n",
       "Southern Asia                      0.672143\n",
       "Eastern Asia                       0.671833\n",
       "North America                      0.154000\n",
       "Australia and New Zealand          0.001000\n",
       "Name: Happiness Score, dtype: float64"
      ]
     },
     "execution_count": 15,
     "metadata": {},
     "output_type": "execute_result"
    }
   ],
   "source": [
    "mean_max_dif.sort_values(ascending=False)"
   ]
  },
  {
   "cell_type": "markdown",
   "id": "91b39441",
   "metadata": {},
   "source": [
    "9. Use the df.groupby() method to calculate the minimum, maximum, and mean family and happiness scores for each region in happiness2015\n"
   ]
  },
  {
   "cell_type": "code",
   "execution_count": 17,
   "id": "ce8e3faf",
   "metadata": {},
   "outputs": [
    {
     "data": {
      "text/html": [
       "<div>\n",
       "<style scoped>\n",
       "    .dataframe tbody tr th:only-of-type {\n",
       "        vertical-align: middle;\n",
       "    }\n",
       "\n",
       "    .dataframe tbody tr th {\n",
       "        vertical-align: top;\n",
       "    }\n",
       "\n",
       "    .dataframe thead tr th {\n",
       "        text-align: left;\n",
       "    }\n",
       "\n",
       "    .dataframe thead tr:last-of-type th {\n",
       "        text-align: right;\n",
       "    }\n",
       "</style>\n",
       "<table border=\"1\" class=\"dataframe\">\n",
       "  <thead>\n",
       "    <tr>\n",
       "      <th></th>\n",
       "      <th colspan=\"3\" halign=\"left\">Happiness Score</th>\n",
       "      <th colspan=\"3\" halign=\"left\">Family</th>\n",
       "    </tr>\n",
       "    <tr>\n",
       "      <th></th>\n",
       "      <th>min</th>\n",
       "      <th>max</th>\n",
       "      <th>mean</th>\n",
       "      <th>min</th>\n",
       "      <th>max</th>\n",
       "      <th>mean</th>\n",
       "    </tr>\n",
       "    <tr>\n",
       "      <th>Region</th>\n",
       "      <th></th>\n",
       "      <th></th>\n",
       "      <th></th>\n",
       "      <th></th>\n",
       "      <th></th>\n",
       "      <th></th>\n",
       "    </tr>\n",
       "  </thead>\n",
       "  <tbody>\n",
       "    <tr>\n",
       "      <th>Australia and New Zealand</th>\n",
       "      <td>7.284</td>\n",
       "      <td>7.286</td>\n",
       "      <td>7.285000</td>\n",
       "      <td>1.30923</td>\n",
       "      <td>1.31967</td>\n",
       "      <td>1.314450</td>\n",
       "    </tr>\n",
       "    <tr>\n",
       "      <th>Central and Eastern Europe</th>\n",
       "      <td>4.218</td>\n",
       "      <td>6.505</td>\n",
       "      <td>5.332931</td>\n",
       "      <td>0.38562</td>\n",
       "      <td>1.34043</td>\n",
       "      <td>1.053042</td>\n",
       "    </tr>\n",
       "    <tr>\n",
       "      <th>Eastern Asia</th>\n",
       "      <td>4.874</td>\n",
       "      <td>6.298</td>\n",
       "      <td>5.626167</td>\n",
       "      <td>0.94675</td>\n",
       "      <td>1.30060</td>\n",
       "      <td>1.099427</td>\n",
       "    </tr>\n",
       "    <tr>\n",
       "      <th>Latin America and Caribbean</th>\n",
       "      <td>4.518</td>\n",
       "      <td>7.226</td>\n",
       "      <td>6.144682</td>\n",
       "      <td>0.74302</td>\n",
       "      <td>1.30477</td>\n",
       "      <td>1.104720</td>\n",
       "    </tr>\n",
       "    <tr>\n",
       "      <th>Middle East and Northern Africa</th>\n",
       "      <td>3.006</td>\n",
       "      <td>7.278</td>\n",
       "      <td>5.406900</td>\n",
       "      <td>0.47489</td>\n",
       "      <td>1.22393</td>\n",
       "      <td>0.920490</td>\n",
       "    </tr>\n",
       "    <tr>\n",
       "      <th>North America</th>\n",
       "      <td>7.119</td>\n",
       "      <td>7.427</td>\n",
       "      <td>7.273000</td>\n",
       "      <td>1.24711</td>\n",
       "      <td>1.32261</td>\n",
       "      <td>1.284860</td>\n",
       "    </tr>\n",
       "    <tr>\n",
       "      <th>Southeastern Asia</th>\n",
       "      <td>3.819</td>\n",
       "      <td>6.798</td>\n",
       "      <td>5.317444</td>\n",
       "      <td>0.62736</td>\n",
       "      <td>1.26504</td>\n",
       "      <td>0.940468</td>\n",
       "    </tr>\n",
       "    <tr>\n",
       "      <th>Southern Asia</th>\n",
       "      <td>3.575</td>\n",
       "      <td>5.253</td>\n",
       "      <td>4.580857</td>\n",
       "      <td>0.30285</td>\n",
       "      <td>1.10395</td>\n",
       "      <td>0.645321</td>\n",
       "    </tr>\n",
       "    <tr>\n",
       "      <th>Sub-Saharan Africa</th>\n",
       "      <td>2.839</td>\n",
       "      <td>5.477</td>\n",
       "      <td>4.202800</td>\n",
       "      <td>0.00000</td>\n",
       "      <td>1.18468</td>\n",
       "      <td>0.809085</td>\n",
       "    </tr>\n",
       "    <tr>\n",
       "      <th>Western Europe</th>\n",
       "      <td>4.857</td>\n",
       "      <td>7.587</td>\n",
       "      <td>6.689619</td>\n",
       "      <td>0.89318</td>\n",
       "      <td>1.40223</td>\n",
       "      <td>1.247302</td>\n",
       "    </tr>\n",
       "  </tbody>\n",
       "</table>\n",
       "</div>"
      ],
      "text/plain": [
       "                                Happiness Score                    Family  \\\n",
       "                                            min    max      mean      min   \n",
       "Region                                                                      \n",
       "Australia and New Zealand                 7.284  7.286  7.285000  1.30923   \n",
       "Central and Eastern Europe                4.218  6.505  5.332931  0.38562   \n",
       "Eastern Asia                              4.874  6.298  5.626167  0.94675   \n",
       "Latin America and Caribbean               4.518  7.226  6.144682  0.74302   \n",
       "Middle East and Northern Africa           3.006  7.278  5.406900  0.47489   \n",
       "North America                             7.119  7.427  7.273000  1.24711   \n",
       "Southeastern Asia                         3.819  6.798  5.317444  0.62736   \n",
       "Southern Asia                             3.575  5.253  4.580857  0.30285   \n",
       "Sub-Saharan Africa                        2.839  5.477  4.202800  0.00000   \n",
       "Western Europe                            4.857  7.587  6.689619  0.89318   \n",
       "\n",
       "                                                    \n",
       "                                     max      mean  \n",
       "Region                                              \n",
       "Australia and New Zealand        1.31967  1.314450  \n",
       "Central and Eastern Europe       1.34043  1.053042  \n",
       "Eastern Asia                     1.30060  1.099427  \n",
       "Latin America and Caribbean      1.30477  1.104720  \n",
       "Middle East and Northern Africa  1.22393  0.920490  \n",
       "North America                    1.32261  1.284860  \n",
       "Southeastern Asia                1.26504  0.940468  \n",
       "Southern Asia                    1.10395  0.645321  \n",
       "Sub-Saharan Africa               1.18468  0.809085  \n",
       "Western Europe                   1.40223  1.247302  "
      ]
     },
     "execution_count": 17,
     "metadata": {},
     "output_type": "execute_result"
    }
   ],
   "source": [
    "grouped = df.groupby('Region')[['Happiness Score','Family']]\n",
    "happy_family_stats = grouped.agg(['min','max','mean'])\n",
    "happy_family_stats"
   ]
  },
  {
   "cell_type": "markdown",
   "id": "c80bc686",
   "metadata": {},
   "source": [
    "10. Use the pivot_table method to return the same information, but also calculate the minimum, maximum, and mean for the entire Family and Happiness Score columns\n"
   ]
  },
  {
   "cell_type": "code",
   "execution_count": 22,
   "id": "b7effdec",
   "metadata": {},
   "outputs": [
    {
     "data": {
      "text/html": [
       "<div>\n",
       "<style scoped>\n",
       "    .dataframe tbody tr th:only-of-type {\n",
       "        vertical-align: middle;\n",
       "    }\n",
       "\n",
       "    .dataframe tbody tr th {\n",
       "        vertical-align: top;\n",
       "    }\n",
       "\n",
       "    .dataframe thead tr th {\n",
       "        text-align: left;\n",
       "    }\n",
       "\n",
       "    .dataframe thead tr:last-of-type th {\n",
       "        text-align: right;\n",
       "    }\n",
       "</style>\n",
       "<table border=\"1\" class=\"dataframe\">\n",
       "  <thead>\n",
       "    <tr>\n",
       "      <th></th>\n",
       "      <th colspan=\"2\" halign=\"left\">min</th>\n",
       "      <th colspan=\"2\" halign=\"left\">max</th>\n",
       "      <th colspan=\"2\" halign=\"left\">mean</th>\n",
       "    </tr>\n",
       "    <tr>\n",
       "      <th></th>\n",
       "      <th>Family</th>\n",
       "      <th>Happiness Score</th>\n",
       "      <th>Family</th>\n",
       "      <th>Happiness Score</th>\n",
       "      <th>Family</th>\n",
       "      <th>Happiness Score</th>\n",
       "    </tr>\n",
       "    <tr>\n",
       "      <th>Region</th>\n",
       "      <th></th>\n",
       "      <th></th>\n",
       "      <th></th>\n",
       "      <th></th>\n",
       "      <th></th>\n",
       "      <th></th>\n",
       "    </tr>\n",
       "  </thead>\n",
       "  <tbody>\n",
       "    <tr>\n",
       "      <th>Australia and New Zealand</th>\n",
       "      <td>1.30923</td>\n",
       "      <td>7.284</td>\n",
       "      <td>1.31967</td>\n",
       "      <td>7.286</td>\n",
       "      <td>1.314450</td>\n",
       "      <td>7.285000</td>\n",
       "    </tr>\n",
       "    <tr>\n",
       "      <th>Central and Eastern Europe</th>\n",
       "      <td>0.38562</td>\n",
       "      <td>4.218</td>\n",
       "      <td>1.34043</td>\n",
       "      <td>6.505</td>\n",
       "      <td>1.053042</td>\n",
       "      <td>5.332931</td>\n",
       "    </tr>\n",
       "    <tr>\n",
       "      <th>Eastern Asia</th>\n",
       "      <td>0.94675</td>\n",
       "      <td>4.874</td>\n",
       "      <td>1.30060</td>\n",
       "      <td>6.298</td>\n",
       "      <td>1.099427</td>\n",
       "      <td>5.626167</td>\n",
       "    </tr>\n",
       "    <tr>\n",
       "      <th>Latin America and Caribbean</th>\n",
       "      <td>0.74302</td>\n",
       "      <td>4.518</td>\n",
       "      <td>1.30477</td>\n",
       "      <td>7.226</td>\n",
       "      <td>1.104720</td>\n",
       "      <td>6.144682</td>\n",
       "    </tr>\n",
       "    <tr>\n",
       "      <th>Middle East and Northern Africa</th>\n",
       "      <td>0.47489</td>\n",
       "      <td>3.006</td>\n",
       "      <td>1.22393</td>\n",
       "      <td>7.278</td>\n",
       "      <td>0.920490</td>\n",
       "      <td>5.406900</td>\n",
       "    </tr>\n",
       "    <tr>\n",
       "      <th>North America</th>\n",
       "      <td>1.24711</td>\n",
       "      <td>7.119</td>\n",
       "      <td>1.32261</td>\n",
       "      <td>7.427</td>\n",
       "      <td>1.284860</td>\n",
       "      <td>7.273000</td>\n",
       "    </tr>\n",
       "    <tr>\n",
       "      <th>Southeastern Asia</th>\n",
       "      <td>0.62736</td>\n",
       "      <td>3.819</td>\n",
       "      <td>1.26504</td>\n",
       "      <td>6.798</td>\n",
       "      <td>0.940468</td>\n",
       "      <td>5.317444</td>\n",
       "    </tr>\n",
       "    <tr>\n",
       "      <th>Southern Asia</th>\n",
       "      <td>0.30285</td>\n",
       "      <td>3.575</td>\n",
       "      <td>1.10395</td>\n",
       "      <td>5.253</td>\n",
       "      <td>0.645321</td>\n",
       "      <td>4.580857</td>\n",
       "    </tr>\n",
       "    <tr>\n",
       "      <th>Sub-Saharan Africa</th>\n",
       "      <td>0.00000</td>\n",
       "      <td>2.839</td>\n",
       "      <td>1.18468</td>\n",
       "      <td>5.477</td>\n",
       "      <td>0.809085</td>\n",
       "      <td>4.202800</td>\n",
       "    </tr>\n",
       "    <tr>\n",
       "      <th>Western Europe</th>\n",
       "      <td>0.89318</td>\n",
       "      <td>4.857</td>\n",
       "      <td>1.40223</td>\n",
       "      <td>7.587</td>\n",
       "      <td>1.247302</td>\n",
       "      <td>6.689619</td>\n",
       "    </tr>\n",
       "    <tr>\n",
       "      <th>All</th>\n",
       "      <td>0.00000</td>\n",
       "      <td>2.839</td>\n",
       "      <td>1.40223</td>\n",
       "      <td>7.587</td>\n",
       "      <td>0.991046</td>\n",
       "      <td>5.375734</td>\n",
       "    </tr>\n",
       "  </tbody>\n",
       "</table>\n",
       "</div>"
      ],
      "text/plain": [
       "                                     min                      max  \\\n",
       "                                  Family Happiness Score   Family   \n",
       "Region                                                              \n",
       "Australia and New Zealand        1.30923           7.284  1.31967   \n",
       "Central and Eastern Europe       0.38562           4.218  1.34043   \n",
       "Eastern Asia                     0.94675           4.874  1.30060   \n",
       "Latin America and Caribbean      0.74302           4.518  1.30477   \n",
       "Middle East and Northern Africa  0.47489           3.006  1.22393   \n",
       "North America                    1.24711           7.119  1.32261   \n",
       "Southeastern Asia                0.62736           3.819  1.26504   \n",
       "Southern Asia                    0.30285           3.575  1.10395   \n",
       "Sub-Saharan Africa               0.00000           2.839  1.18468   \n",
       "Western Europe                   0.89318           4.857  1.40223   \n",
       "All                              0.00000           2.839  1.40223   \n",
       "\n",
       "                                                     mean                  \n",
       "                                Happiness Score    Family Happiness Score  \n",
       "Region                                                                     \n",
       "Australia and New Zealand                 7.286  1.314450        7.285000  \n",
       "Central and Eastern Europe                6.505  1.053042        5.332931  \n",
       "Eastern Asia                              6.298  1.099427        5.626167  \n",
       "Latin America and Caribbean               7.226  1.104720        6.144682  \n",
       "Middle East and Northern Africa           7.278  0.920490        5.406900  \n",
       "North America                             7.427  1.284860        7.273000  \n",
       "Southeastern Asia                         6.798  0.940468        5.317444  \n",
       "Southern Asia                             5.253  0.645321        4.580857  \n",
       "Sub-Saharan Africa                        5.477  0.809085        4.202800  \n",
       "Western Europe                            7.587  1.247302        6.689619  \n",
       "All                                       7.587  0.991046        5.375734  "
      ]
     },
     "execution_count": 22,
     "metadata": {},
     "output_type": "execute_result"
    }
   ],
   "source": [
    "df.pivot_table(values = ['Happiness Score','Family'],index = 'Region'\\\n",
    "                         ,aggfunc = ['min','max','mean'],margins = True)"
   ]
  },
  {
   "cell_type": "markdown",
   "id": "fbd57e32",
   "metadata": {},
   "source": [
    "Read the OnlineRetail.csv file to pandas DataFrame\n",
    "1. How many customers who purchase more than 3 times?\n",
    "2. What is the average of the number of items in each invoice?"
   ]
  },
  {
   "cell_type": "code",
   "execution_count": 15,
   "id": "8d98a16a",
   "metadata": {},
   "outputs": [],
   "source": [
    "df = pd.read_csv('D:\\\\Data Preparation\\\\Data\\\\OnlineRetail.csv')"
   ]
  },
  {
   "cell_type": "code",
   "execution_count": 16,
   "id": "0ff42c57",
   "metadata": {},
   "outputs": [
    {
     "data": {
      "text/html": [
       "<div>\n",
       "<style scoped>\n",
       "    .dataframe tbody tr th:only-of-type {\n",
       "        vertical-align: middle;\n",
       "    }\n",
       "\n",
       "    .dataframe tbody tr th {\n",
       "        vertical-align: top;\n",
       "    }\n",
       "\n",
       "    .dataframe thead th {\n",
       "        text-align: right;\n",
       "    }\n",
       "</style>\n",
       "<table border=\"1\" class=\"dataframe\">\n",
       "  <thead>\n",
       "    <tr style=\"text-align: right;\">\n",
       "      <th></th>\n",
       "      <th>InvoiceNo</th>\n",
       "      <th>StockCode</th>\n",
       "      <th>Description</th>\n",
       "      <th>Quantity</th>\n",
       "      <th>InvoiceDate</th>\n",
       "      <th>UnitPrice</th>\n",
       "      <th>CustomerID</th>\n",
       "      <th>Country</th>\n",
       "    </tr>\n",
       "  </thead>\n",
       "  <tbody>\n",
       "    <tr>\n",
       "      <th>0</th>\n",
       "      <td>539993</td>\n",
       "      <td>22386</td>\n",
       "      <td>JUMBO BAG PINK POLKADOT</td>\n",
       "      <td>10</td>\n",
       "      <td>2011-01-04 10:00:00</td>\n",
       "      <td>1.95</td>\n",
       "      <td>13313.0</td>\n",
       "      <td>United Kingdom</td>\n",
       "    </tr>\n",
       "    <tr>\n",
       "      <th>1</th>\n",
       "      <td>539993</td>\n",
       "      <td>21499</td>\n",
       "      <td>BLUE POLKADOT WRAP</td>\n",
       "      <td>25</td>\n",
       "      <td>2011-01-04 10:00:00</td>\n",
       "      <td>0.42</td>\n",
       "      <td>13313.0</td>\n",
       "      <td>United Kingdom</td>\n",
       "    </tr>\n",
       "    <tr>\n",
       "      <th>2</th>\n",
       "      <td>539993</td>\n",
       "      <td>21498</td>\n",
       "      <td>RED RETROSPOT WRAP</td>\n",
       "      <td>25</td>\n",
       "      <td>2011-01-04 10:00:00</td>\n",
       "      <td>0.42</td>\n",
       "      <td>13313.0</td>\n",
       "      <td>United Kingdom</td>\n",
       "    </tr>\n",
       "    <tr>\n",
       "      <th>3</th>\n",
       "      <td>539993</td>\n",
       "      <td>22379</td>\n",
       "      <td>RECYCLING BAG RETROSPOT</td>\n",
       "      <td>5</td>\n",
       "      <td>2011-01-04 10:00:00</td>\n",
       "      <td>2.10</td>\n",
       "      <td>13313.0</td>\n",
       "      <td>United Kingdom</td>\n",
       "    </tr>\n",
       "    <tr>\n",
       "      <th>4</th>\n",
       "      <td>539993</td>\n",
       "      <td>20718</td>\n",
       "      <td>RED RETROSPOT SHOPPER BAG</td>\n",
       "      <td>10</td>\n",
       "      <td>2011-01-04 10:00:00</td>\n",
       "      <td>1.25</td>\n",
       "      <td>13313.0</td>\n",
       "      <td>United Kingdom</td>\n",
       "    </tr>\n",
       "  </tbody>\n",
       "</table>\n",
       "</div>"
      ],
      "text/plain": [
       "  InvoiceNo StockCode                Description  Quantity  \\\n",
       "0    539993     22386    JUMBO BAG PINK POLKADOT        10   \n",
       "1    539993     21499         BLUE POLKADOT WRAP        25   \n",
       "2    539993     21498        RED RETROSPOT WRAP         25   \n",
       "3    539993     22379   RECYCLING BAG RETROSPOT          5   \n",
       "4    539993     20718  RED RETROSPOT SHOPPER BAG        10   \n",
       "\n",
       "           InvoiceDate  UnitPrice  CustomerID         Country  \n",
       "0  2011-01-04 10:00:00       1.95     13313.0  United Kingdom  \n",
       "1  2011-01-04 10:00:00       0.42     13313.0  United Kingdom  \n",
       "2  2011-01-04 10:00:00       0.42     13313.0  United Kingdom  \n",
       "3  2011-01-04 10:00:00       2.10     13313.0  United Kingdom  \n",
       "4  2011-01-04 10:00:00       1.25     13313.0  United Kingdom  "
      ]
     },
     "execution_count": 16,
     "metadata": {},
     "output_type": "execute_result"
    }
   ],
   "source": [
    "df.head()"
   ]
  },
  {
   "cell_type": "code",
   "execution_count": 10,
   "id": "b1bfe93b",
   "metadata": {},
   "outputs": [
    {
     "name": "stdout",
     "output_type": "stream",
     "text": [
      "<class 'pandas.core.frame.DataFrame'>\n",
      "RangeIndex: 203422 entries, 0 to 203421\n",
      "Data columns (total 8 columns):\n",
      " #   Column       Non-Null Count   Dtype  \n",
      "---  ------       --------------   -----  \n",
      " 0   InvoiceNo    203422 non-null  object \n",
      " 1   StockCode    203422 non-null  object \n",
      " 2   Description  202623 non-null  object \n",
      " 3   Quantity     203422 non-null  int64  \n",
      " 4   InvoiceDate  203422 non-null  object \n",
      " 5   UnitPrice    203422 non-null  float64\n",
      " 6   CustomerID   150039 non-null  float64\n",
      " 7   Country      203422 non-null  object \n",
      "dtypes: float64(2), int64(1), object(5)\n",
      "memory usage: 12.4+ MB\n"
     ]
    }
   ],
   "source": [
    "df.info()"
   ]
  },
  {
   "cell_type": "code",
   "execution_count": 12,
   "id": "24b7760d",
   "metadata": {},
   "outputs": [
    {
     "data": {
      "text/plain": [
       "1042"
      ]
     },
     "execution_count": 12,
     "metadata": {},
     "output_type": "execute_result"
    }
   ],
   "source": [
    "(df.groupby('CustomerID').InvoiceNo.nunique()>=3).sum()"
   ]
  },
  {
   "cell_type": "code",
   "execution_count": 14,
   "id": "df1f4994",
   "metadata": {},
   "outputs": [
    {
     "data": {
      "text/plain": [
       "18.613649025069638"
      ]
     },
     "execution_count": 14,
     "metadata": {},
     "output_type": "execute_result"
    }
   ],
   "source": [
    "df.groupby('InvoiceNo').StockCode.nunique().mean()"
   ]
  }
 ],
 "metadata": {
  "kernelspec": {
   "display_name": "Python 3 (ipykernel)",
   "language": "python",
   "name": "python3"
  },
  "language_info": {
   "codemirror_mode": {
    "name": "ipython",
    "version": 3
   },
   "file_extension": ".py",
   "mimetype": "text/x-python",
   "name": "python",
   "nbconvert_exporter": "python",
   "pygments_lexer": "ipython3",
   "version": "3.9.7"
  }
 },
 "nbformat": 4,
 "nbformat_minor": 5
}
