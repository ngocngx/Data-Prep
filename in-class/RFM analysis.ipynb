{
 "cells": [
  {
   "cell_type": "markdown",
   "id": "8f66d4ca",
   "metadata": {},
   "source": [
    "Binning using pd.cut(), pd.qcut()"
   ]
  },
  {
   "cell_type": "code",
   "execution_count": 1,
   "id": "27e2081c",
   "metadata": {},
   "outputs": [],
   "source": [
    "import pandas as pd\n",
    "import numpy as np"
   ]
  },
  {
   "cell_type": "code",
   "execution_count": 2,
   "id": "2d59fcb3",
   "metadata": {},
   "outputs": [
    {
     "data": {
      "text/plain": [
       "array([ 0,  1,  2,  3,  4,  5,  6,  7,  8,  9, 10, 11, 12, 13, 14, 15, 16,\n",
       "       17, 18, 19])"
      ]
     },
     "execution_count": 2,
     "metadata": {},
     "output_type": "execute_result"
    }
   ],
   "source": [
    "ages = np.arange(20)\n",
    "ages"
   ]
  },
  {
   "cell_type": "code",
   "execution_count": 3,
   "id": "216492ef",
   "metadata": {},
   "outputs": [
    {
     "data": {
      "text/plain": [
       "Youth         5\n",
       "YouthAdult    5\n",
       "MiddleAged    5\n",
       "Senior        5\n",
       "Name: count, dtype: int64"
      ]
     },
     "execution_count": 3,
     "metadata": {},
     "output_type": "execute_result"
    }
   ],
   "source": [
    "pd.cut(ages,bins=4,labels = ['Youth','YouthAdult','MiddleAged','Senior']).value_counts()"
   ]
  },
  {
   "cell_type": "code",
   "execution_count": 4,
   "id": "794cf69b",
   "metadata": {},
   "outputs": [
    {
     "data": {
      "text/plain": [
       "[0, 7)      7\n",
       "[7, 15)     8\n",
       "[15, 20)    5\n",
       "Name: count, dtype: int64"
      ]
     },
     "execution_count": 4,
     "metadata": {},
     "output_type": "execute_result"
    }
   ],
   "source": [
    "pd.cut(ages, bins = [0,7,15,20], right=False).value_counts()"
   ]
  },
  {
   "cell_type": "code",
   "execution_count": 5,
   "id": "6dff3a18",
   "metadata": {},
   "outputs": [
    {
     "data": {
      "text/plain": [
       "(0, 5)      4\n",
       "(6, 9)      2\n",
       "(10, 19)    8\n",
       "Name: count, dtype: int64"
      ]
     },
     "execution_count": 5,
     "metadata": {},
     "output_type": "execute_result"
    }
   ],
   "source": [
    "bins = pd.IntervalIndex.from_tuples([(0, 5), (6, 9), (10, 19)],closed='neither')\n",
    "pd.cut(ages, bins = bins).value_counts()"
   ]
  },
  {
   "cell_type": "code",
   "execution_count": 6,
   "id": "01286530",
   "metadata": {},
   "outputs": [],
   "source": [
    "import pandas as pd\n",
    "import numpy as np\n",
    "import matplotlib.pyplot as plt\n",
    "df = pd.read_csv('D:\\\\Data Preparation\\\\Data\\\\OnlineRetail2.csv')"
   ]
  },
  {
   "cell_type": "code",
   "execution_count": 7,
   "id": "f06bc510",
   "metadata": {},
   "outputs": [
    {
     "name": "stdout",
     "output_type": "stream",
     "text": [
      "<class 'pandas.core.frame.DataFrame'>\n",
      "RangeIndex: 203422 entries, 0 to 203421\n",
      "Data columns (total 8 columns):\n",
      " #   Column       Non-Null Count   Dtype  \n",
      "---  ------       --------------   -----  \n",
      " 0   InvoiceNo    203422 non-null  object \n",
      " 1   StockCode    203422 non-null  object \n",
      " 2   Description  202623 non-null  object \n",
      " 3   Quantity     203422 non-null  int64  \n",
      " 4   InvoiceDate  203422 non-null  object \n",
      " 5   UnitPrice    203422 non-null  float64\n",
      " 6   CustomerID   150039 non-null  float64\n",
      " 7   Country      203422 non-null  object \n",
      "dtypes: float64(2), int64(1), object(5)\n",
      "memory usage: 12.4+ MB\n"
     ]
    }
   ],
   "source": [
    "df.info()"
   ]
  },
  {
   "cell_type": "code",
   "execution_count": 8,
   "id": "e628a388",
   "metadata": {},
   "outputs": [
    {
     "data": {
      "text/plain": [
       "1585"
      ]
     },
     "execution_count": 8,
     "metadata": {},
     "output_type": "execute_result"
    }
   ],
   "source": [
    "df[['InvoiceNo','StockCode','Quantity']].duplicated().sum()"
   ]
  },
  {
   "cell_type": "code",
   "execution_count": 9,
   "id": "7032cec9",
   "metadata": {},
   "outputs": [
    {
     "data": {
      "text/plain": [
       "count    203422.000000\n",
       "mean          9.585684\n",
       "std         240.921315\n",
       "min      -74215.000000\n",
       "25%           1.000000\n",
       "50%           3.000000\n",
       "75%          10.000000\n",
       "max       74215.000000\n",
       "Name: Quantity, dtype: float64"
      ]
     },
     "execution_count": 9,
     "metadata": {},
     "output_type": "execute_result"
    }
   ],
   "source": [
    "df['Quantity'].describe()"
   ]
  },
  {
   "cell_type": "code",
   "execution_count": 10,
   "id": "48937ea6",
   "metadata": {},
   "outputs": [
    {
     "data": {
      "text/plain": [
       "InvoiceNo      0.000000\n",
       "StockCode      0.000000\n",
       "Description    0.003928\n",
       "Quantity       0.000000\n",
       "InvoiceDate    0.000000\n",
       "UnitPrice      0.000000\n",
       "CustomerID     0.262425\n",
       "Country        0.000000\n",
       "dtype: float64"
      ]
     },
     "execution_count": 10,
     "metadata": {},
     "output_type": "execute_result"
    }
   ],
   "source": [
    "df.isnull().sum()/df.shape[0]"
   ]
  },
  {
   "cell_type": "markdown",
   "id": "aefc6bb7",
   "metadata": {},
   "source": [
    "DATA CLEANING"
   ]
  },
  {
   "cell_type": "markdown",
   "id": "88a70577",
   "metadata": {},
   "source": [
    "1. Data Cleaning\n",
    "- Drop duplicated rows\n",
    "- Delete records with the value of Quantity <= 0\n",
    "- Drop records with null CustomerID"
   ]
  },
  {
   "cell_type": "code",
   "execution_count": 11,
   "id": "9c5ace80",
   "metadata": {},
   "outputs": [
    {
     "data": {
      "text/plain": [
       "(145000, 8)"
      ]
     },
     "execution_count": 11,
     "metadata": {},
     "output_type": "execute_result"
    }
   ],
   "source": [
    "df = df.drop_duplicates()\n",
    "df = df.drop_duplicates(subset = ['InvoiceNo','StockCode','Quantity'])\n",
    "df = df[df['CustomerID'].notnull()]\n",
    "df['InvoiceDate'] = pd.to_datetime(df['InvoiceDate'])\n",
    "df = df[df['Quantity'] > 0]\n",
    "df.shape"
   ]
  },
  {
   "cell_type": "markdown",
   "id": "ac29832c",
   "metadata": {},
   "source": [
    "RFM (Recency, Frequency, Monetary) analysis is a behavior-based approach grouping customers into segments.\n",
    "   It groups the customers on the basis of their previous purchase transactions. How recently, how often, and how much did a customer buy.\n",
    "   In this section we will practice implementing the customer segment based on the RFM model"
   ]
  },
  {
   "cell_type": "markdown",
   "id": "4e284969",
   "metadata": {},
   "source": [
    "- Create an empty DataFrame named customer_df\n",
    "- Append a new column named CustomerID. This column stores the unique ID of each customer\n",
    "- Create a new column named ‘TotalRevenue’ as the product of two columns Quantity and UnitPrice "
   ]
  },
  {
   "cell_type": "code",
   "execution_count": 12,
   "id": "5c5b5726",
   "metadata": {},
   "outputs": [],
   "source": [
    "##Create a new dataframe named cusomter_df with only a column 'CustomerID'. Each row contains the ID of a CustomerID \n",
    "customer_df = pd.DataFrame()\n",
    "customer_df['CustomerID'] = df.CustomerID.unique()"
   ]
  },
  {
   "cell_type": "code",
   "execution_count": 13,
   "id": "3095bc23",
   "metadata": {},
   "outputs": [],
   "source": [
    "##Create new column named ‘TotalRevenue’ as product \\\n",
    "###of two columns Quantity and  UnitPrice\n",
    "df['TotalRevenue'] = df['Quantity'] * df['UnitPrice']"
   ]
  },
  {
   "cell_type": "markdown",
   "id": "bb6b571d",
   "metadata": {},
   "source": [
    "- Create a new dataframe named frequency_df. This dataframe has only two columns: \n",
    "    - The ‘CustomerID’ column stores the unique ID of each customer\n",
    "    - The ‘Frequency’ column stores the frequency value of each customer\n",
    "- Create a new dataframe named monetary_df. This dataframe has only two columns:\n",
    "    - The ‘ CustomerID’ column stores the unique ID of each customer\n",
    "    - The ‘Monetary’ column stores the total revenue of each customer\n",
    "- Create a new dataframe named recency_df. This dataframe has only two columns:\n",
    "    - The ‘CustomerID’ column stores the unique ID of each customer\n",
    "    - The ‘Recency’ column stores the recency value of each customer \n"
   ]
  },
  {
   "cell_type": "code",
   "execution_count": 14,
   "id": "a5d3a7a4",
   "metadata": {},
   "outputs": [
    {
     "data": {
      "text/html": [
       "<div>\n",
       "<style scoped>\n",
       "    .dataframe tbody tr th:only-of-type {\n",
       "        vertical-align: middle;\n",
       "    }\n",
       "\n",
       "    .dataframe tbody tr th {\n",
       "        vertical-align: top;\n",
       "    }\n",
       "\n",
       "    .dataframe thead th {\n",
       "        text-align: right;\n",
       "    }\n",
       "</style>\n",
       "<table border=\"1\" class=\"dataframe\">\n",
       "  <thead>\n",
       "    <tr style=\"text-align: right;\">\n",
       "      <th></th>\n",
       "      <th>InvoiceNo</th>\n",
       "    </tr>\n",
       "    <tr>\n",
       "      <th>CustomerID</th>\n",
       "      <th></th>\n",
       "    </tr>\n",
       "  </thead>\n",
       "  <tbody>\n",
       "    <tr>\n",
       "      <th>12346.0</th>\n",
       "      <td>1</td>\n",
       "    </tr>\n",
       "    <tr>\n",
       "      <th>12347.0</th>\n",
       "      <td>3</td>\n",
       "    </tr>\n",
       "    <tr>\n",
       "      <th>12348.0</th>\n",
       "      <td>2</td>\n",
       "    </tr>\n",
       "    <tr>\n",
       "      <th>12350.0</th>\n",
       "      <td>1</td>\n",
       "    </tr>\n",
       "    <tr>\n",
       "      <th>12352.0</th>\n",
       "      <td>5</td>\n",
       "    </tr>\n",
       "    <tr>\n",
       "      <th>...</th>\n",
       "      <td>...</td>\n",
       "    </tr>\n",
       "    <tr>\n",
       "      <th>18273.0</th>\n",
       "      <td>1</td>\n",
       "    </tr>\n",
       "    <tr>\n",
       "      <th>18280.0</th>\n",
       "      <td>1</td>\n",
       "    </tr>\n",
       "    <tr>\n",
       "      <th>18281.0</th>\n",
       "      <td>1</td>\n",
       "    </tr>\n",
       "    <tr>\n",
       "      <th>18283.0</th>\n",
       "      <td>7</td>\n",
       "    </tr>\n",
       "    <tr>\n",
       "      <th>18287.0</th>\n",
       "      <td>1</td>\n",
       "    </tr>\n",
       "  </tbody>\n",
       "</table>\n",
       "<p>2724 rows × 1 columns</p>\n",
       "</div>"
      ],
      "text/plain": [
       "            InvoiceNo\n",
       "CustomerID           \n",
       "12346.0             1\n",
       "12347.0             3\n",
       "12348.0             2\n",
       "12350.0             1\n",
       "12352.0             5\n",
       "...               ...\n",
       "18273.0             1\n",
       "18280.0             1\n",
       "18281.0             1\n",
       "18283.0             7\n",
       "18287.0             1\n",
       "\n",
       "[2724 rows x 1 columns]"
      ]
     },
     "execution_count": 14,
     "metadata": {},
     "output_type": "execute_result"
    }
   ],
   "source": [
    "df.groupby('CustomerID')[['InvoiceNo']].nunique()"
   ]
  },
  {
   "cell_type": "code",
   "execution_count": 15,
   "id": "21dcf36d",
   "metadata": {},
   "outputs": [],
   "source": [
    "frequency_df = df.groupby('CustomerID').InvoiceNo.nunique().reset_index()\n",
    "frequency_df.columns = ['CustomerID','Frequency']\n",
    "customer_df  = pd.merge(customer_df,frequency_df,on='CustomerID',how='left')\n",
    "monetary_df = df.groupby('CustomerID').TotalRevenue.sum().reset_index()\n",
    "monetary_df.columns = ['CustomerID','Monetary']\n",
    "customer_df = pd.merge(customer_df,monetary_df,on='CustomerID',how='left')\n",
    "recency_df = (df.InvoiceDate.max() - df.groupby('CustomerID')\\\n",
    "              .InvoiceDate.max()).dt.days.reset_index()\n",
    "recency_df.columns = ['CustomerID','Recency']\n",
    "customer_df = pd.merge(customer_df,recency_df,on='CustomerID',how='left')"
   ]
  },
  {
   "cell_type": "code",
   "execution_count": 16,
   "id": "023a8529",
   "metadata": {},
   "outputs": [
    {
     "data": {
      "text/html": [
       "<div>\n",
       "<style scoped>\n",
       "    .dataframe tbody tr th:only-of-type {\n",
       "        vertical-align: middle;\n",
       "    }\n",
       "\n",
       "    .dataframe tbody tr th {\n",
       "        vertical-align: top;\n",
       "    }\n",
       "\n",
       "    .dataframe thead th {\n",
       "        text-align: right;\n",
       "    }\n",
       "</style>\n",
       "<table border=\"1\" class=\"dataframe\">\n",
       "  <thead>\n",
       "    <tr style=\"text-align: right;\">\n",
       "      <th></th>\n",
       "      <th>CustomerID</th>\n",
       "      <th>Frequency</th>\n",
       "      <th>Monetary</th>\n",
       "      <th>Recency</th>\n",
       "    </tr>\n",
       "  </thead>\n",
       "  <tbody>\n",
       "    <tr>\n",
       "      <th>count</th>\n",
       "      <td>2724.000000</td>\n",
       "      <td>2724.000000</td>\n",
       "      <td>2724.000000</td>\n",
       "      <td>2724.000000</td>\n",
       "    </tr>\n",
       "    <tr>\n",
       "      <th>mean</th>\n",
       "      <td>15283.547724</td>\n",
       "      <td>2.717695</td>\n",
       "      <td>1251.721623</td>\n",
       "      <td>59.764684</td>\n",
       "    </tr>\n",
       "    <tr>\n",
       "      <th>std</th>\n",
       "      <td>1717.888344</td>\n",
       "      <td>3.878238</td>\n",
       "      <td>4577.361618</td>\n",
       "      <td>47.913115</td>\n",
       "    </tr>\n",
       "    <tr>\n",
       "      <th>min</th>\n",
       "      <td>12346.000000</td>\n",
       "      <td>1.000000</td>\n",
       "      <td>2.900000</td>\n",
       "      <td>0.000000</td>\n",
       "    </tr>\n",
       "    <tr>\n",
       "      <th>25%</th>\n",
       "      <td>13799.750000</td>\n",
       "      <td>1.000000</td>\n",
       "      <td>244.417500</td>\n",
       "      <td>20.000000</td>\n",
       "    </tr>\n",
       "    <tr>\n",
       "      <th>50%</th>\n",
       "      <td>15237.500000</td>\n",
       "      <td>2.000000</td>\n",
       "      <td>492.360000</td>\n",
       "      <td>46.000000</td>\n",
       "    </tr>\n",
       "    <tr>\n",
       "      <th>75%</th>\n",
       "      <td>16766.250000</td>\n",
       "      <td>3.000000</td>\n",
       "      <td>1067.407500</td>\n",
       "      <td>94.000000</td>\n",
       "    </tr>\n",
       "    <tr>\n",
       "      <th>max</th>\n",
       "      <td>18287.000000</td>\n",
       "      <td>67.000000</td>\n",
       "      <td>127410.230000</td>\n",
       "      <td>177.000000</td>\n",
       "    </tr>\n",
       "  </tbody>\n",
       "</table>\n",
       "</div>"
      ],
      "text/plain": [
       "         CustomerID    Frequency       Monetary      Recency\n",
       "count   2724.000000  2724.000000    2724.000000  2724.000000\n",
       "mean   15283.547724     2.717695    1251.721623    59.764684\n",
       "std     1717.888344     3.878238    4577.361618    47.913115\n",
       "min    12346.000000     1.000000       2.900000     0.000000\n",
       "25%    13799.750000     1.000000     244.417500    20.000000\n",
       "50%    15237.500000     2.000000     492.360000    46.000000\n",
       "75%    16766.250000     3.000000    1067.407500    94.000000\n",
       "max    18287.000000    67.000000  127410.230000   177.000000"
      ]
     },
     "execution_count": 16,
     "metadata": {},
     "output_type": "execute_result"
    }
   ],
   "source": [
    "customer_df.describe()"
   ]
  },
  {
   "cell_type": "markdown",
   "id": "1d189729",
   "metadata": {},
   "source": [
    "2. Add segment bin values to RFM table using quartile. For example, If the recency value belongs to the first quartile, the recency value will be replaced by 1, if it belongs to the second quartile, that value will be replaced by 2...\n",
    "- Hint: using pd.qcut, create new columns named r_quantile, f_quantile and m_quantile in the dataframe customer_df "
   ]
  },
  {
   "cell_type": "code",
   "execution_count": 17,
   "id": "05a82916",
   "metadata": {},
   "outputs": [],
   "source": [
    "customer_df['r_quantile'] = pd.qcut(customer_df['Recency'],q=4,labels = [4,3,2,1])\n",
    "customer_df['f_quantile'] = pd.qcut(customer_df['Frequency'],q=4,labels = [1,2,3],duplicates='drop')\n",
    "customer_df['m_quantile'] = pd.qcut(customer_df['Monetary'],q=4,labels = [1,2,3,4])"
   ]
  },
  {
   "cell_type": "markdown",
   "id": "5b896436",
   "metadata": {},
   "source": [
    "3. In the customer_df, Create a new column named RFM_Score. The formula for RFM_Score is as follow\n",
    "             RFM_Score = r_quantile + f_quantile + m_quantile"
   ]
  },
  {
   "cell_type": "code",
   "execution_count": 18,
   "id": "5917b875",
   "metadata": {},
   "outputs": [],
   "source": [
    "customer_df['RFM_Score'] = customer_df[['r_quantile','f_quantile','m_quantile']].sum(axis=1)"
   ]
  },
  {
   "cell_type": "markdown",
   "id": "1698f25a",
   "metadata": {},
   "source": [
    "4. Based on RFM_Score, customers are divided into 3 segments: low-value, mid-value and high value so that it is satisfy the following rules:\n",
    " - The number of customers of high value segment does not exceed 20% of the total number of customers.\n",
    " - The number of customers of mid value segment is no less than 30% of the total number of customers."
   ]
  },
  {
   "cell_type": "code",
   "execution_count": 19,
   "id": "86fdeced",
   "metadata": {},
   "outputs": [
    {
     "data": {
      "text/plain": [
       "count    2724.000000\n",
       "mean        6.514684\n",
       "std         2.461784\n",
       "min         3.000000\n",
       "0%          3.000000\n",
       "3%          3.000000\n",
       "6%          3.000000\n",
       "9%          3.000000\n",
       "12%         4.000000\n",
       "15%         4.000000\n",
       "18%         4.000000\n",
       "21%         4.000000\n",
       "24%         4.000000\n",
       "27%         5.000000\n",
       "30%         5.000000\n",
       "33%         5.000000\n",
       "36%         5.000000\n",
       "39%         5.000000\n",
       "42%         6.000000\n",
       "45%         6.000000\n",
       "48%         6.000000\n",
       "50%         6.000000\n",
       "51%         6.000000\n",
       "54%         6.000000\n",
       "57%         7.000000\n",
       "60%         7.000000\n",
       "63%         7.000000\n",
       "66%         7.000000\n",
       "69%         8.000000\n",
       "72%         8.000000\n",
       "75%         8.000000\n",
       "78%         9.000000\n",
       "81%         9.000000\n",
       "84%        10.000000\n",
       "87%        10.000000\n",
       "90%        10.000000\n",
       "93%        11.000000\n",
       "96%        11.000000\n",
       "99%        11.000000\n",
       "max        11.000000\n",
       "Name: RFM_Score, dtype: float64"
      ]
     },
     "execution_count": 19,
     "metadata": {},
     "output_type": "execute_result"
    }
   ],
   "source": [
    "customer_df['RFM_Score']\\\n",
    ".describe(percentiles=[0.01*i for i in range(0,100,3)])"
   ]
  },
  {
   "cell_type": "code",
   "execution_count": 20,
   "id": "b17e17b8",
   "metadata": {},
   "outputs": [],
   "source": [
    "customer_df['Segment'] = pd.cut(customer_df['RFM_Score'],bins=[2,6,9,11]\\\n",
    "                                ,labels = ['Low Value','Mid Value','High Value'])"
   ]
  },
  {
   "cell_type": "code",
   "execution_count": 21,
   "id": "c6ca36d1",
   "metadata": {},
   "outputs": [
    {
     "data": {
      "text/plain": [
       "Segment\n",
       "Low Value     0.556535\n",
       "Mid Value     0.275330\n",
       "High Value    0.168135\n",
       "Name: proportion, dtype: float64"
      ]
     },
     "execution_count": 21,
     "metadata": {},
     "output_type": "execute_result"
    }
   ],
   "source": [
    "customer_df['Segment'].value_counts(normalize=True)"
   ]
  }
 ],
 "metadata": {
  "kernelspec": {
   "display_name": "Python 3 (ipykernel)",
   "language": "python",
   "name": "python3"
  },
  "language_info": {
   "codemirror_mode": {
    "name": "ipython",
    "version": 3
   },
   "file_extension": ".py",
   "mimetype": "text/x-python",
   "name": "python",
   "nbconvert_exporter": "python",
   "pygments_lexer": "ipython3",
   "version": "3.9.7"
  }
 },
 "nbformat": 4,
 "nbformat_minor": 5
}
