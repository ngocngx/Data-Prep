{
 "cells": [
  {
   "cell_type": "code",
   "execution_count": null,
   "id": "7388d579",
   "metadata": {},
   "outputs": [],
   "source": [
    "import pandas as pd\n",
    "Series = pd.Series([4,7,-5,3])"
   ]
  },
  {
   "cell_type": "code",
   "execution_count": null,
   "id": "25b618c2",
   "metadata": {},
   "outputs": [],
   "source": [
    "import numpy as np"
   ]
  },
  {
   "cell_type": "code",
   "execution_count": null,
   "id": "2a5fa54d",
   "metadata": {},
   "outputs": [],
   "source": [
    "Series.index"
   ]
  },
  {
   "cell_type": "code",
   "execution_count": null,
   "id": "d9861e87",
   "metadata": {},
   "outputs": [],
   "source": [
    "Series.values"
   ]
  },
  {
   "cell_type": "code",
   "execution_count": null,
   "id": "4a522f68",
   "metadata": {},
   "outputs": [],
   "source": [
    "import numpy as np\n",
    "np_array = np.arange(0,19,2)"
   ]
  },
  {
   "cell_type": "code",
   "execution_count": null,
   "id": "6dfc2559",
   "metadata": {},
   "outputs": [],
   "source": [
    "np_array"
   ]
  },
  {
   "cell_type": "code",
   "execution_count": null,
   "id": "93983fbd",
   "metadata": {},
   "outputs": [],
   "source": [
    "np_array.index"
   ]
  },
  {
   "cell_type": "code",
   "execution_count": null,
   "id": "381566d8",
   "metadata": {},
   "outputs": [],
   "source": [
    "Series"
   ]
  },
  {
   "cell_type": "code",
   "execution_count": null,
   "id": "ceb03a82",
   "metadata": {},
   "outputs": [],
   "source": [
    "object2 = pd.Series([4,7,-5,3],index = ['a','b','c','d'])"
   ]
  },
  {
   "cell_type": "code",
   "execution_count": null,
   "id": "0a9dace7",
   "metadata": {},
   "outputs": [],
   "source": [
    "object2.index"
   ]
  },
  {
   "cell_type": "code",
   "execution_count": null,
   "id": "00a3ed11",
   "metadata": {},
   "outputs": [],
   "source": [
    "object2['a']"
   ]
  },
  {
   "cell_type": "code",
   "execution_count": null,
   "id": "c4db6da8",
   "metadata": {},
   "outputs": [],
   "source": [
    "object2[0] "
   ]
  },
  {
   "cell_type": "code",
   "execution_count": null,
   "id": "f8db567c",
   "metadata": {},
   "outputs": [],
   "source": [
    "object2[['a','c']] "
   ]
  },
  {
   "cell_type": "code",
   "execution_count": null,
   "id": "951dd520",
   "metadata": {},
   "outputs": [],
   "source": [
    "object2[object2>0] "
   ]
  },
  {
   "cell_type": "code",
   "execution_count": null,
   "id": "f4bcf1a5",
   "metadata": {},
   "outputs": [],
   "source": [
    "object2*2"
   ]
  },
  {
   "cell_type": "code",
   "execution_count": null,
   "id": "c839f547",
   "metadata": {},
   "outputs": [],
   "source": [
    "np.exp(object2)"
   ]
  },
  {
   "cell_type": "markdown",
   "id": "728431c4",
   "metadata": {},
   "source": [
    "Modify Series in place using values from passed Series."
   ]
  },
  {
   "cell_type": "code",
   "execution_count": null,
   "id": "d9e72dc4",
   "metadata": {},
   "outputs": [],
   "source": [
    "Series"
   ]
  },
  {
   "cell_type": "code",
   "execution_count": null,
   "id": "a73ca4d3",
   "metadata": {},
   "outputs": [],
   "source": [
    "object3= object2.copy()\n",
    "object3"
   ]
  },
  {
   "cell_type": "code",
   "execution_count": null,
   "id": "c326acca",
   "metadata": {},
   "outputs": [],
   "source": [
    "object2 = np_array\n",
    "object2"
   ]
  },
  {
   "cell_type": "code",
   "execution_count": null,
   "id": "1d469d18",
   "metadata": {},
   "outputs": [],
   "source": [
    "np_array = [2,3,4,5]\n",
    "np_array"
   ]
  },
  {
   "cell_type": "code",
   "execution_count": null,
   "id": "2f2a0597",
   "metadata": {},
   "outputs": [],
   "source": [
    "object3"
   ]
  },
  {
   "cell_type": "code",
   "execution_count": null,
   "id": "2dafcc4b",
   "metadata": {},
   "outputs": [],
   "source": [
    "object3.update(pd.Series([2,3,4,5]))\n",
    "object3"
   ]
  },
  {
   "cell_type": "code",
   "execution_count": null,
   "id": "d4edbb87",
   "metadata": {},
   "outputs": [],
   "source": [
    "object3.update(pd.Series([2,3,4,5],index=['a','b','c','d']))\n",
    "object3"
   ]
  },
  {
   "cell_type": "code",
   "execution_count": null,
   "id": "cb616731",
   "metadata": {},
   "outputs": [],
   "source": [
    "###modify only one element in a series\n",
    "object3['b']=4\n",
    "object3"
   ]
  },
  {
   "cell_type": "code",
   "execution_count": null,
   "id": "34233579",
   "metadata": {},
   "outputs": [],
   "source": [
    "object3.update(pd.Series([0,0],index=['a','b']))\n",
    "object3"
   ]
  },
  {
   "cell_type": "code",
   "execution_count": null,
   "id": "d567c6a2",
   "metadata": {},
   "outputs": [],
   "source": [
    "object3[['c','d']]=[0,0]\n",
    "object3"
   ]
  },
  {
   "cell_type": "code",
   "execution_count": null,
   "id": "9fb13e6a",
   "metadata": {},
   "outputs": [],
   "source": [
    "dictionary = {'Ohio':3500, 'Texa': 71000,'Oregon':16000,'Utah': 5000}\n",
    "obj3 = pd.Series(dictionary)"
   ]
  },
  {
   "cell_type": "code",
   "execution_count": null,
   "id": "7ddf70d1",
   "metadata": {},
   "outputs": [],
   "source": [
    "obj3"
   ]
  },
  {
   "cell_type": "code",
   "execution_count": null,
   "id": "5a8f8108",
   "metadata": {},
   "outputs": [],
   "source": [
    "obj4 = pd.Series(dictionary,index=['Ohio','Oregon','Texa','Utah'])"
   ]
  },
  {
   "cell_type": "code",
   "execution_count": null,
   "id": "8aaba435",
   "metadata": {},
   "outputs": [],
   "source": [
    "obj4"
   ]
  },
  {
   "cell_type": "code",
   "execution_count": null,
   "id": "c44c4621",
   "metadata": {},
   "outputs": [],
   "source": [
    "obj5 = pd.Series(dictionary,index=['Ohio','Oregon','Texa','California'])"
   ]
  },
  {
   "cell_type": "code",
   "execution_count": null,
   "id": "21191eb8",
   "metadata": {},
   "outputs": [],
   "source": [
    "obj5"
   ]
  },
  {
   "cell_type": "markdown",
   "id": "74818116",
   "metadata": {},
   "source": [
    "Naming series and its index"
   ]
  },
  {
   "cell_type": "code",
   "execution_count": null,
   "id": "ac292c30",
   "metadata": {},
   "outputs": [],
   "source": [
    "obj5.name = 'population'\n",
    "obj5.index.name = 'state'"
   ]
  },
  {
   "cell_type": "code",
   "execution_count": null,
   "id": "01c33dd9",
   "metadata": {},
   "outputs": [],
   "source": [
    "obj5"
   ]
  },
  {
   "cell_type": "markdown",
   "id": "1751aa04",
   "metadata": {},
   "source": [
    "A Series's index can be altered in-place by assignment"
   ]
  },
  {
   "cell_type": "code",
   "execution_count": null,
   "id": "2a2a190c",
   "metadata": {},
   "outputs": [],
   "source": [
    "obj5.index = ['Bob','Steve','Jeff','Ryan'] "
   ]
  },
  {
   "cell_type": "code",
   "execution_count": null,
   "id": "d779fcdc",
   "metadata": {},
   "outputs": [],
   "source": [
    "obj5"
   ]
  },
  {
   "cell_type": "markdown",
   "id": "794bd1ac",
   "metadata": {},
   "source": [
    "Modifying Pandas Series Elements\n",
    "<series object> [<index>] = <new data value>\n",
    "Change a slice of values\n",
    "<series object> [start : stop] = <new data value>"
   ]
  },
  {
   "cell_type": "code",
   "execution_count": null,
   "id": "b7e57d72",
   "metadata": {},
   "outputs": [],
   "source": [
    "obj5['Bob'] = 0"
   ]
  },
  {
   "cell_type": "code",
   "execution_count": null,
   "id": "2cf48481",
   "metadata": {},
   "outputs": [],
   "source": [
    "obj5"
   ]
  },
  {
   "cell_type": "code",
   "execution_count": null,
   "id": "0dc40bcb",
   "metadata": {},
   "outputs": [],
   "source": [
    "obj5['Bob':'Steve'] = 0"
   ]
  },
  {
   "cell_type": "code",
   "execution_count": null,
   "id": "ed19e22d",
   "metadata": {},
   "outputs": [],
   "source": [
    "obj5"
   ]
  },
  {
   "cell_type": "code",
   "execution_count": null,
   "id": "d6cd483c",
   "metadata": {},
   "outputs": [],
   "source": [
    "obj5['Bob':'Steve'] = [3500,16000]"
   ]
  },
  {
   "cell_type": "code",
   "execution_count": null,
   "id": "8d9fdc42",
   "metadata": {},
   "outputs": [],
   "source": [
    "obj5"
   ]
  },
  {
   "cell_type": "markdown",
   "id": "c76becfd",
   "metadata": {},
   "source": [
    "# DATAFRAME"
   ]
  },
  {
   "cell_type": "code",
   "execution_count": 4,
   "id": "ae6eaa8d",
   "metadata": {},
   "outputs": [],
   "source": [
    "data = {'State' : ['Ohio','Ohio','Ohio','Nevada','Neveda','Nevada'],\\\n",
    "       'year':[2000,2001,2002,2001,2002,2003],\\\n",
    "       'pop': [1.5,1.7,3.5,2.4,2.9,3.2]}\n",
    "df = pd.DataFrame(data)"
   ]
  },
  {
   "cell_type": "code",
   "execution_count": null,
   "id": "26b3c257",
   "metadata": {},
   "outputs": [],
   "source": [
    "df"
   ]
  },
  {
   "cell_type": "code",
   "execution_count": null,
   "id": "86043248",
   "metadata": {},
   "outputs": [],
   "source": [
    "df2 = pd.DataFrame(data,index = ['a','b','c','d','e','f']\\\n",
    "                   ,columns = ['year','State','pop'])"
   ]
  },
  {
   "cell_type": "code",
   "execution_count": null,
   "id": "8520d7db",
   "metadata": {},
   "outputs": [],
   "source": [
    "df2"
   ]
  },
  {
   "cell_type": "code",
   "execution_count": null,
   "id": "15bfbf1f",
   "metadata": {},
   "outputs": [],
   "source": [
    "df2 = df2[['State','year','pop']] "
   ]
  },
  {
   "cell_type": "code",
   "execution_count": null,
   "id": "37988794",
   "metadata": {},
   "outputs": [],
   "source": [
    "df2"
   ]
  },
  {
   "cell_type": "markdown",
   "id": "7ac2e024",
   "metadata": {},
   "source": [
    "You can pass the index and specify a sequence of columns, the DataFrame’s columns will be arranged in that order"
   ]
  },
  {
   "cell_type": "code",
   "execution_count": null,
   "id": "0c10c0b9",
   "metadata": {},
   "outputs": [],
   "source": [
    "df2"
   ]
  },
  {
   "cell_type": "code",
   "execution_count": null,
   "id": "b1eb1e05",
   "metadata": {},
   "outputs": [],
   "source": [
    "df3 = pd.DataFrame(data,columns = ['year','State','population'])\n",
    "df3"
   ]
  },
  {
   "cell_type": "markdown",
   "id": "66523543",
   "metadata": {},
   "source": [
    "CHANGING THE ORDER OF COLUMN AND CHANGING THE COLUMN NAMES"
   ]
  },
  {
   "cell_type": "code",
   "execution_count": null,
   "id": "1d6c45f9",
   "metadata": {},
   "outputs": [],
   "source": [
    "df2"
   ]
  },
  {
   "cell_type": "code",
   "execution_count": null,
   "id": "c8db9eb2",
   "metadata": {},
   "outputs": [],
   "source": [
    "df2.columns = ['State','year','pop']"
   ]
  },
  {
   "cell_type": "code",
   "execution_count": null,
   "id": "6102b374",
   "metadata": {},
   "outputs": [],
   "source": [
    "df2"
   ]
  },
  {
   "cell_type": "code",
   "execution_count": null,
   "id": "d7da9aee",
   "metadata": {},
   "outputs": [],
   "source": [
    "df2 = df2[['State','year','pop']]\n",
    "df2"
   ]
  },
  {
   "cell_type": "code",
   "execution_count": null,
   "id": "3e9da21a",
   "metadata": {},
   "outputs": [],
   "source": [
    "df['State'] "
   ]
  },
  {
   "cell_type": "code",
   "execution_count": null,
   "id": "0b5122c2",
   "metadata": {},
   "outputs": [],
   "source": [
    "df.State"
   ]
  },
  {
   "cell_type": "code",
   "execution_count": null,
   "id": "98f60c5f",
   "metadata": {},
   "outputs": [],
   "source": [
    "df.columns = [col+'@' for col in df.columns]\n",
    "df"
   ]
  },
  {
   "cell_type": "code",
   "execution_count": null,
   "id": "426fd414",
   "metadata": {},
   "outputs": [],
   "source": [
    "df['State@']"
   ]
  },
  {
   "cell_type": "code",
   "execution_count": null,
   "id": "1294bc01",
   "metadata": {},
   "outputs": [],
   "source": [
    "df.State@"
   ]
  },
  {
   "cell_type": "code",
   "execution_count": null,
   "id": "7bba3a93",
   "metadata": {},
   "outputs": [],
   "source": [
    "df.loc[:1,'State']"
   ]
  },
  {
   "cell_type": "markdown",
   "id": "c6b746fe",
   "metadata": {},
   "source": [
    "DataFrame[column] works for any column name, but DataFrame.column only works when the column name is a valid Python variable name.\n",
    "- A variable name must start with a letter or the underscore character\n",
    "- A variable name cannot start with a number\n",
    "- A variable name can only contain alpha-numeric characters and underscores (A-z, 0-9, and _ )\n",
    "Variable names are case-sensitive (age, Age and AGE are three different variables)"
   ]
  },
  {
   "cell_type": "code",
   "execution_count": null,
   "id": "80ca7fc6",
   "metadata": {},
   "outputs": [],
   "source": [
    "df2.columns = ['State@','year','pop']"
   ]
  },
  {
   "cell_type": "code",
   "execution_count": null,
   "id": "b5636163",
   "metadata": {},
   "outputs": [],
   "source": [
    "df2['State@']"
   ]
  },
  {
   "cell_type": "code",
   "execution_count": null,
   "id": "24cc558d",
   "metadata": {},
   "outputs": [],
   "source": [
    "df2.State@"
   ]
  },
  {
   "cell_type": "code",
   "execution_count": null,
   "id": "9ea1326e",
   "metadata": {},
   "outputs": [],
   "source": [
    "df2.columns = ['1State','year','pop']"
   ]
  },
  {
   "cell_type": "code",
   "execution_count": null,
   "id": "f1de4aee",
   "metadata": {},
   "outputs": [],
   "source": [
    "df2.1State"
   ]
  },
  {
   "cell_type": "markdown",
   "id": "c2f27969",
   "metadata": {},
   "source": [
    "# Access DataFrames’s elements"
   ]
  },
  {
   "cell_type": "code",
   "execution_count": 2,
   "id": "a600e578",
   "metadata": {},
   "outputs": [],
   "source": [
    "import pandas as pd"
   ]
  },
  {
   "cell_type": "code",
   "execution_count": 5,
   "id": "eb226518",
   "metadata": {},
   "outputs": [
    {
     "data": {
      "text/html": [
       "<div>\n",
       "<style scoped>\n",
       "    .dataframe tbody tr th:only-of-type {\n",
       "        vertical-align: middle;\n",
       "    }\n",
       "\n",
       "    .dataframe tbody tr th {\n",
       "        vertical-align: top;\n",
       "    }\n",
       "\n",
       "    .dataframe thead th {\n",
       "        text-align: right;\n",
       "    }\n",
       "</style>\n",
       "<table border=\"1\" class=\"dataframe\">\n",
       "  <thead>\n",
       "    <tr style=\"text-align: right;\">\n",
       "      <th></th>\n",
       "      <th>year</th>\n",
       "      <th>state</th>\n",
       "      <th>pop</th>\n",
       "      <th>debt</th>\n",
       "    </tr>\n",
       "  </thead>\n",
       "  <tbody>\n",
       "    <tr>\n",
       "      <th>one</th>\n",
       "      <td>2000</td>\n",
       "      <td>NaN</td>\n",
       "      <td>1.5</td>\n",
       "      <td>NaN</td>\n",
       "    </tr>\n",
       "    <tr>\n",
       "      <th>two</th>\n",
       "      <td>2001</td>\n",
       "      <td>NaN</td>\n",
       "      <td>1.7</td>\n",
       "      <td>NaN</td>\n",
       "    </tr>\n",
       "    <tr>\n",
       "      <th>three</th>\n",
       "      <td>2002</td>\n",
       "      <td>NaN</td>\n",
       "      <td>3.5</td>\n",
       "      <td>NaN</td>\n",
       "    </tr>\n",
       "    <tr>\n",
       "      <th>four</th>\n",
       "      <td>2001</td>\n",
       "      <td>NaN</td>\n",
       "      <td>2.4</td>\n",
       "      <td>NaN</td>\n",
       "    </tr>\n",
       "    <tr>\n",
       "      <th>five</th>\n",
       "      <td>2002</td>\n",
       "      <td>NaN</td>\n",
       "      <td>2.9</td>\n",
       "      <td>NaN</td>\n",
       "    </tr>\n",
       "    <tr>\n",
       "      <th>six</th>\n",
       "      <td>2003</td>\n",
       "      <td>NaN</td>\n",
       "      <td>3.2</td>\n",
       "      <td>NaN</td>\n",
       "    </tr>\n",
       "  </tbody>\n",
       "</table>\n",
       "</div>"
      ],
      "text/plain": [
       "       year state  pop debt\n",
       "one    2000   NaN  1.5  NaN\n",
       "two    2001   NaN  1.7  NaN\n",
       "three  2002   NaN  3.5  NaN\n",
       "four   2001   NaN  2.4  NaN\n",
       "five   2002   NaN  2.9  NaN\n",
       "six    2003   NaN  3.2  NaN"
      ]
     },
     "execution_count": 5,
     "metadata": {},
     "output_type": "execute_result"
    }
   ],
   "source": [
    "###pass a column that isn't contained in the dict, it will appear with missing values in the result\n",
    "df3 = pd.DataFrame(data,columns = ['year','state','pop','debt'],\\\n",
    "                  index = ['one','two','three','four','five','six'])\n",
    "df3"
   ]
  },
  {
   "cell_type": "markdown",
   "id": "dd3bd679",
   "metadata": {},
   "source": [
    "CREATE A NEW COLUMN"
   ]
  },
  {
   "cell_type": "code",
   "execution_count": 6,
   "id": "7a5f80c6",
   "metadata": {},
   "outputs": [],
   "source": [
    "df3['debt'] = 16.5"
   ]
  },
  {
   "cell_type": "code",
   "execution_count": 7,
   "id": "acfcc582",
   "metadata": {},
   "outputs": [
    {
     "data": {
      "text/html": [
       "<div>\n",
       "<style scoped>\n",
       "    .dataframe tbody tr th:only-of-type {\n",
       "        vertical-align: middle;\n",
       "    }\n",
       "\n",
       "    .dataframe tbody tr th {\n",
       "        vertical-align: top;\n",
       "    }\n",
       "\n",
       "    .dataframe thead th {\n",
       "        text-align: right;\n",
       "    }\n",
       "</style>\n",
       "<table border=\"1\" class=\"dataframe\">\n",
       "  <thead>\n",
       "    <tr style=\"text-align: right;\">\n",
       "      <th></th>\n",
       "      <th>year</th>\n",
       "      <th>state</th>\n",
       "      <th>pop</th>\n",
       "      <th>debt</th>\n",
       "    </tr>\n",
       "  </thead>\n",
       "  <tbody>\n",
       "    <tr>\n",
       "      <th>one</th>\n",
       "      <td>2000</td>\n",
       "      <td>NaN</td>\n",
       "      <td>1.5</td>\n",
       "      <td>16.5</td>\n",
       "    </tr>\n",
       "    <tr>\n",
       "      <th>two</th>\n",
       "      <td>2001</td>\n",
       "      <td>NaN</td>\n",
       "      <td>1.7</td>\n",
       "      <td>16.5</td>\n",
       "    </tr>\n",
       "    <tr>\n",
       "      <th>three</th>\n",
       "      <td>2002</td>\n",
       "      <td>NaN</td>\n",
       "      <td>3.5</td>\n",
       "      <td>16.5</td>\n",
       "    </tr>\n",
       "    <tr>\n",
       "      <th>four</th>\n",
       "      <td>2001</td>\n",
       "      <td>NaN</td>\n",
       "      <td>2.4</td>\n",
       "      <td>16.5</td>\n",
       "    </tr>\n",
       "    <tr>\n",
       "      <th>five</th>\n",
       "      <td>2002</td>\n",
       "      <td>NaN</td>\n",
       "      <td>2.9</td>\n",
       "      <td>16.5</td>\n",
       "    </tr>\n",
       "    <tr>\n",
       "      <th>six</th>\n",
       "      <td>2003</td>\n",
       "      <td>NaN</td>\n",
       "      <td>3.2</td>\n",
       "      <td>16.5</td>\n",
       "    </tr>\n",
       "  </tbody>\n",
       "</table>\n",
       "</div>"
      ],
      "text/plain": [
       "       year state  pop  debt\n",
       "one    2000   NaN  1.5  16.5\n",
       "two    2001   NaN  1.7  16.5\n",
       "three  2002   NaN  3.5  16.5\n",
       "four   2001   NaN  2.4  16.5\n",
       "five   2002   NaN  2.9  16.5\n",
       "six    2003   NaN  3.2  16.5"
      ]
     },
     "execution_count": 7,
     "metadata": {},
     "output_type": "execute_result"
    }
   ],
   "source": [
    "df3"
   ]
  },
  {
   "cell_type": "code",
   "execution_count": 9,
   "id": "49f8ffe7",
   "metadata": {},
   "outputs": [
    {
     "data": {
      "text/html": [
       "<div>\n",
       "<style scoped>\n",
       "    .dataframe tbody tr th:only-of-type {\n",
       "        vertical-align: middle;\n",
       "    }\n",
       "\n",
       "    .dataframe tbody tr th {\n",
       "        vertical-align: top;\n",
       "    }\n",
       "\n",
       "    .dataframe thead th {\n",
       "        text-align: right;\n",
       "    }\n",
       "</style>\n",
       "<table border=\"1\" class=\"dataframe\">\n",
       "  <thead>\n",
       "    <tr style=\"text-align: right;\">\n",
       "      <th></th>\n",
       "      <th>year</th>\n",
       "      <th>state</th>\n",
       "      <th>pop</th>\n",
       "      <th>debt</th>\n",
       "    </tr>\n",
       "  </thead>\n",
       "  <tbody>\n",
       "    <tr>\n",
       "      <th>one</th>\n",
       "      <td>2000</td>\n",
       "      <td>NaN</td>\n",
       "      <td>1.5</td>\n",
       "      <td>0.0</td>\n",
       "    </tr>\n",
       "    <tr>\n",
       "      <th>two</th>\n",
       "      <td>2001</td>\n",
       "      <td>NaN</td>\n",
       "      <td>1.7</td>\n",
       "      <td>1.0</td>\n",
       "    </tr>\n",
       "    <tr>\n",
       "      <th>three</th>\n",
       "      <td>2002</td>\n",
       "      <td>NaN</td>\n",
       "      <td>3.5</td>\n",
       "      <td>2.0</td>\n",
       "    </tr>\n",
       "    <tr>\n",
       "      <th>four</th>\n",
       "      <td>2001</td>\n",
       "      <td>NaN</td>\n",
       "      <td>2.4</td>\n",
       "      <td>3.0</td>\n",
       "    </tr>\n",
       "    <tr>\n",
       "      <th>five</th>\n",
       "      <td>2002</td>\n",
       "      <td>NaN</td>\n",
       "      <td>2.9</td>\n",
       "      <td>4.0</td>\n",
       "    </tr>\n",
       "    <tr>\n",
       "      <th>six</th>\n",
       "      <td>2003</td>\n",
       "      <td>NaN</td>\n",
       "      <td>3.2</td>\n",
       "      <td>5.0</td>\n",
       "    </tr>\n",
       "  </tbody>\n",
       "</table>\n",
       "</div>"
      ],
      "text/plain": [
       "       year state  pop  debt\n",
       "one    2000   NaN  1.5   0.0\n",
       "two    2001   NaN  1.7   1.0\n",
       "three  2002   NaN  3.5   2.0\n",
       "four   2001   NaN  2.4   3.0\n",
       "five   2002   NaN  2.9   4.0\n",
       "six    2003   NaN  3.2   5.0"
      ]
     },
     "execution_count": 9,
     "metadata": {},
     "output_type": "execute_result"
    }
   ],
   "source": [
    "import numpy as np\n",
    "df3['debt'] = np.arange(6.)\n",
    "df3"
   ]
  },
  {
   "cell_type": "code",
   "execution_count": 10,
   "id": "489ba469",
   "metadata": {},
   "outputs": [
    {
     "data": {
      "text/html": [
       "<div>\n",
       "<style scoped>\n",
       "    .dataframe tbody tr th:only-of-type {\n",
       "        vertical-align: middle;\n",
       "    }\n",
       "\n",
       "    .dataframe tbody tr th {\n",
       "        vertical-align: top;\n",
       "    }\n",
       "\n",
       "    .dataframe thead th {\n",
       "        text-align: right;\n",
       "    }\n",
       "</style>\n",
       "<table border=\"1\" class=\"dataframe\">\n",
       "  <thead>\n",
       "    <tr style=\"text-align: right;\">\n",
       "      <th></th>\n",
       "      <th>year</th>\n",
       "      <th>state</th>\n",
       "      <th>pop</th>\n",
       "      <th>debt</th>\n",
       "    </tr>\n",
       "  </thead>\n",
       "  <tbody>\n",
       "    <tr>\n",
       "      <th>one</th>\n",
       "      <td>2000</td>\n",
       "      <td>NaN</td>\n",
       "      <td>1.5</td>\n",
       "      <td>NaN</td>\n",
       "    </tr>\n",
       "    <tr>\n",
       "      <th>two</th>\n",
       "      <td>2001</td>\n",
       "      <td>NaN</td>\n",
       "      <td>1.7</td>\n",
       "      <td>NaN</td>\n",
       "    </tr>\n",
       "    <tr>\n",
       "      <th>three</th>\n",
       "      <td>2002</td>\n",
       "      <td>NaN</td>\n",
       "      <td>3.5</td>\n",
       "      <td>NaN</td>\n",
       "    </tr>\n",
       "    <tr>\n",
       "      <th>four</th>\n",
       "      <td>2001</td>\n",
       "      <td>NaN</td>\n",
       "      <td>2.4</td>\n",
       "      <td>NaN</td>\n",
       "    </tr>\n",
       "    <tr>\n",
       "      <th>five</th>\n",
       "      <td>2002</td>\n",
       "      <td>NaN</td>\n",
       "      <td>2.9</td>\n",
       "      <td>NaN</td>\n",
       "    </tr>\n",
       "    <tr>\n",
       "      <th>six</th>\n",
       "      <td>2003</td>\n",
       "      <td>NaN</td>\n",
       "      <td>3.2</td>\n",
       "      <td>NaN</td>\n",
       "    </tr>\n",
       "  </tbody>\n",
       "</table>\n",
       "</div>"
      ],
      "text/plain": [
       "       year state  pop  debt\n",
       "one    2000   NaN  1.5   NaN\n",
       "two    2001   NaN  1.7   NaN\n",
       "three  2002   NaN  3.5   NaN\n",
       "four   2001   NaN  2.4   NaN\n",
       "five   2002   NaN  2.9   NaN\n",
       "six    2003   NaN  3.2   NaN"
      ]
     },
     "execution_count": 10,
     "metadata": {},
     "output_type": "execute_result"
    }
   ],
   "source": [
    "val = pd.Series([-1.2,-1.5,-1.7,0,0])\n",
    "df3['debt'] = val\n",
    "df3"
   ]
  },
  {
   "cell_type": "code",
   "execution_count": 11,
   "id": "3a4fbd7c",
   "metadata": {},
   "outputs": [
    {
     "data": {
      "text/html": [
       "<div>\n",
       "<style scoped>\n",
       "    .dataframe tbody tr th:only-of-type {\n",
       "        vertical-align: middle;\n",
       "    }\n",
       "\n",
       "    .dataframe tbody tr th {\n",
       "        vertical-align: top;\n",
       "    }\n",
       "\n",
       "    .dataframe thead th {\n",
       "        text-align: right;\n",
       "    }\n",
       "</style>\n",
       "<table border=\"1\" class=\"dataframe\">\n",
       "  <thead>\n",
       "    <tr style=\"text-align: right;\">\n",
       "      <th></th>\n",
       "      <th>year</th>\n",
       "      <th>state</th>\n",
       "      <th>pop</th>\n",
       "      <th>debt</th>\n",
       "    </tr>\n",
       "  </thead>\n",
       "  <tbody>\n",
       "    <tr>\n",
       "      <th>one</th>\n",
       "      <td>2000</td>\n",
       "      <td>NaN</td>\n",
       "      <td>1.5</td>\n",
       "      <td>-1.2</td>\n",
       "    </tr>\n",
       "    <tr>\n",
       "      <th>two</th>\n",
       "      <td>2001</td>\n",
       "      <td>NaN</td>\n",
       "      <td>1.7</td>\n",
       "      <td>-1.5</td>\n",
       "    </tr>\n",
       "    <tr>\n",
       "      <th>three</th>\n",
       "      <td>2002</td>\n",
       "      <td>NaN</td>\n",
       "      <td>3.5</td>\n",
       "      <td>-1.7</td>\n",
       "    </tr>\n",
       "    <tr>\n",
       "      <th>four</th>\n",
       "      <td>2001</td>\n",
       "      <td>NaN</td>\n",
       "      <td>2.4</td>\n",
       "      <td>0.0</td>\n",
       "    </tr>\n",
       "    <tr>\n",
       "      <th>five</th>\n",
       "      <td>2002</td>\n",
       "      <td>NaN</td>\n",
       "      <td>2.9</td>\n",
       "      <td>0.0</td>\n",
       "    </tr>\n",
       "    <tr>\n",
       "      <th>six</th>\n",
       "      <td>2003</td>\n",
       "      <td>NaN</td>\n",
       "      <td>3.2</td>\n",
       "      <td>0.0</td>\n",
       "    </tr>\n",
       "  </tbody>\n",
       "</table>\n",
       "</div>"
      ],
      "text/plain": [
       "       year state  pop  debt\n",
       "one    2000   NaN  1.5  -1.2\n",
       "two    2001   NaN  1.7  -1.5\n",
       "three  2002   NaN  3.5  -1.7\n",
       "four   2001   NaN  2.4   0.0\n",
       "five   2002   NaN  2.9   0.0\n",
       "six    2003   NaN  3.2   0.0"
      ]
     },
     "execution_count": 11,
     "metadata": {},
     "output_type": "execute_result"
    }
   ],
   "source": [
    "val = pd.Series([-1.2,-1.5,-1.7,0,0,0],\\\n",
    "                index = ['one','two','three','four','five','six'])\n",
    "df3['debt'] = val\n",
    "df3"
   ]
  },
  {
   "cell_type": "code",
   "execution_count": null,
   "id": "51c4a8a4",
   "metadata": {},
   "outputs": [],
   "source": [
    "val = pd.Series([-1.2,-1.5,-1.7,0,0,0],\\\n",
    "                index = ['one','two','three',4,5,6])\n",
    "df3['debt'] = val\n",
    "df3"
   ]
  },
  {
   "cell_type": "code",
   "execution_count": null,
   "id": "11aa7991",
   "metadata": {},
   "outputs": [],
   "source": [
    "val = pd.Series([-1.2,-1.5,-1.7],index = ['one','two','three'])\n",
    "df3['debt'] = val\n",
    "df3"
   ]
  },
  {
   "cell_type": "markdown",
   "id": "a4b8aa78",
   "metadata": {},
   "source": [
    "Constructing DataFrame from dict of dicts: \n",
    "- Outer dicts keys -> columns\n",
    "- Inner keys -> row indices"
   ]
  },
  {
   "cell_type": "code",
   "execution_count": null,
   "id": "a13cf03c",
   "metadata": {},
   "outputs": [],
   "source": [
    "###population for each year\n",
    "pop = {'Neveda':{2001: 2.4, 2002: 2.9},\\\n",
    "      'Ohio':{2000: 1.5, 2001: 1.7, 2002: 3.6}}\n",
    "df4 = pd.DataFrame(pop)\n",
    "df4"
   ]
  },
  {
   "cell_type": "code",
   "execution_count": null,
   "id": "3fe4debb",
   "metadata": {},
   "outputs": [],
   "source": [
    " pd.DataFrame(pop,index=[2000,2001,2002])"
   ]
  },
  {
   "cell_type": "code",
   "execution_count": null,
   "id": "1fd19bbe",
   "metadata": {},
   "outputs": [],
   "source": [
    " pd.DataFrame(pop,index=[2001,2002])"
   ]
  },
  {
   "cell_type": "markdown",
   "id": "d83dba86",
   "metadata": {},
   "source": [
    "Construct DataFrame from dict of Series: \n",
    "- Outer dicts keys -> columns\n",
    "- Inner keys -> row indices"
   ]
  },
  {
   "cell_type": "code",
   "execution_count": null,
   "id": "c1648399",
   "metadata": {},
   "outputs": [],
   "source": [
    "df4"
   ]
  },
  {
   "cell_type": "code",
   "execution_count": null,
   "id": "ea44e502",
   "metadata": {},
   "outputs": [],
   "source": [
    "pdata = {'Neveda': df4['Neveda'][:-1],\\\n",
    "        'Ohio':df4['Ohio'][:-1]}\n",
    "df5 = pd.DataFrame(pdata)"
   ]
  },
  {
   "cell_type": "code",
   "execution_count": null,
   "id": "db5af8ea",
   "metadata": {},
   "outputs": [],
   "source": [
    "df5"
   ]
  },
  {
   "cell_type": "markdown",
   "id": "9bfa4abb",
   "metadata": {},
   "source": [
    "try df4['Neveda'].loc[[2001,20002]] and df4['Ohio'].loc[[2000,2001]]"
   ]
  },
  {
   "cell_type": "markdown",
   "id": "28019583",
   "metadata": {},
   "source": [
    "Constructing DataFrame from numpy ndarray"
   ]
  },
  {
   "cell_type": "code",
   "execution_count": null,
   "id": "4a8ebe8b",
   "metadata": {},
   "outputs": [],
   "source": [
    "ndarray = np.array([[-2,1,3],[0,1,3]])\n",
    "pd.DataFrame(ndarray,index=['i1','i2'],columns = ['a','b','c'])"
   ]
  },
  {
   "cell_type": "markdown",
   "id": "46332c55",
   "metadata": {},
   "source": [
    "Contructing DataFrame from list of dicts"
   ]
  },
  {
   "cell_type": "code",
   "execution_count": null,
   "id": "283b71d7",
   "metadata": {},
   "outputs": [],
   "source": [
    "list_ = [{'a':1},{'b':2},{'c':3}]\n",
    "pd.DataFrame(list_)"
   ]
  },
  {
   "cell_type": "code",
   "execution_count": null,
   "id": "c856a275",
   "metadata": {},
   "outputs": [],
   "source": [
    "# Initialise data to lists. \n",
    "data = [{'Geeks': 'dataframe', 'For': 'using', 'geeks': 'list'},\n",
    "        {'Geeks':10, 'For':20,'geeks': 30}]\n",
    "df = pd.DataFrame(data) "
   ]
  },
  {
   "cell_type": "code",
   "execution_count": null,
   "id": "84dd6754",
   "metadata": {},
   "outputs": [],
   "source": [
    "df"
   ]
  },
  {
   "cell_type": "code",
   "execution_count": null,
   "id": "a2bf78c3",
   "metadata": {},
   "outputs": [],
   "source": [
    "data = pd.Series([1,2,3],index=['a','b','c'])"
   ]
  },
  {
   "cell_type": "code",
   "execution_count": null,
   "id": "2f3e39b8",
   "metadata": {},
   "outputs": [],
   "source": [
    "data"
   ]
  },
  {
   "cell_type": "markdown",
   "id": "3671b0cf",
   "metadata": {},
   "source": [
    "Swap the position of two rows in a pandas DataFrame?"
   ]
  },
  {
   "cell_type": "code",
   "execution_count": null,
   "id": "eed023c5",
   "metadata": {},
   "outputs": [],
   "source": [
    "a = pd.DataFrame(data = [[1,2],[3,4]], index=range(2), columns = ['A', 'B'])\n",
    "a"
   ]
  },
  {
   "cell_type": "code",
   "execution_count": null,
   "id": "632dbb20",
   "metadata": {},
   "outputs": [],
   "source": [
    "b, c = a.iloc[0].copy(), a.iloc[1].copy()\n",
    "a.iloc[0],a.iloc[1] = c,b"
   ]
  },
  {
   "cell_type": "code",
   "execution_count": null,
   "id": "c06a97b5",
   "metadata": {},
   "outputs": [],
   "source": [
    "a"
   ]
  }
 ],
 "metadata": {
  "kernelspec": {
   "display_name": "Python 3 (ipykernel)",
   "language": "python",
   "name": "python3"
  },
  "language_info": {
   "codemirror_mode": {
    "name": "ipython",
    "version": 3
   },
   "file_extension": ".py",
   "mimetype": "text/x-python",
   "name": "python",
   "nbconvert_exporter": "python",
   "pygments_lexer": "ipython3",
   "version": "3.9.7"
  }
 },
 "nbformat": 4,
 "nbformat_minor": 5
}
