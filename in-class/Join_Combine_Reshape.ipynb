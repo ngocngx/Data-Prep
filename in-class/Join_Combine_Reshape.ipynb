{
 "cells": [
  {
   "cell_type": "markdown",
   "id": "0dad4642",
   "metadata": {},
   "source": [
    "COMBINING AND MERGING DATASETS"
   ]
  },
  {
   "cell_type": "code",
   "execution_count": null,
   "id": "29c629e2",
   "metadata": {},
   "outputs": [],
   "source": [
    "import pandas as pd"
   ]
  },
  {
   "cell_type": "code",
   "execution_count": null,
   "id": "974e8cf0",
   "metadata": {},
   "outputs": [],
   "source": [
    "df1 = pd.DataFrame({'orderID': ['10002','10003','10004','10005']\\\n",
    "                    ,'TotalPrice':[1000,5000,12000,7000]})"
   ]
  },
  {
   "cell_type": "code",
   "execution_count": null,
   "id": "797db58c",
   "metadata": {},
   "outputs": [],
   "source": [
    "df1"
   ]
  },
  {
   "cell_type": "code",
   "execution_count": null,
   "id": "5eab4698",
   "metadata": {},
   "outputs": [],
   "source": [
    "df2 = pd.DataFrame({'orderID': ['10002','10002','10003','10003','10003',\\\n",
    "                                '10004','10005','10005']\\\n",
    "                    ,'ProductName':['Apples','Grape','WaterMelon','Grape','Pear',\\\n",
    "                                   'Cherry','Figue','Mango']})"
   ]
  },
  {
   "cell_type": "code",
   "execution_count": null,
   "id": "01838124",
   "metadata": {},
   "outputs": [],
   "source": [
    "df2"
   ]
  },
  {
   "cell_type": "code",
   "execution_count": null,
   "id": "31ef48f8",
   "metadata": {},
   "outputs": [],
   "source": [
    "pd.merge(df1,df2,on='orderID',how='left')"
   ]
  },
  {
   "cell_type": "code",
   "execution_count": null,
   "id": "bf7bdd3c",
   "metadata": {},
   "outputs": [],
   "source": [
    "pd.merge(df2, df1, on='orderID',how='left')"
   ]
  },
  {
   "cell_type": "code",
   "execution_count": null,
   "id": "bb90ea74",
   "metadata": {},
   "outputs": [],
   "source": [
    "df1"
   ]
  },
  {
   "cell_type": "code",
   "execution_count": null,
   "id": "b5846db1",
   "metadata": {},
   "outputs": [],
   "source": [
    "pd.merge(df1.iloc[:3,:],df2,on='orderID',how='left')"
   ]
  },
  {
   "cell_type": "code",
   "execution_count": null,
   "id": "0627adee",
   "metadata": {},
   "outputs": [],
   "source": [
    "df1.iloc[:3,:]"
   ]
  },
  {
   "cell_type": "code",
   "execution_count": null,
   "id": "224c990b",
   "metadata": {},
   "outputs": [],
   "source": [
    "# df1.columns = ['orderID1','TotalPrice']\n",
    "pd.merge(df1,df2,on='orderID',how='left')"
   ]
  },
  {
   "cell_type": "code",
   "execution_count": null,
   "id": "93e56319",
   "metadata": {},
   "outputs": [],
   "source": [
    "###if the column names are different in each object, we can specify them separately\n",
    "df1.columns = ['orderID1','TotalPrice']\n",
    "pd.merge(df1,df2,left_on='orderID1',right_on = 'orderID', how='left')"
   ]
  },
  {
   "cell_type": "markdown",
   "id": "cf55cc54",
   "metadata": {},
   "source": [
    "merge has a suffixes option for specifying strings to append to overlapping names in the left and right DataFrame objects"
   ]
  },
  {
   "cell_type": "code",
   "execution_count": null,
   "id": "9f948e5d",
   "metadata": {},
   "outputs": [],
   "source": [
    "df2"
   ]
  },
  {
   "cell_type": "code",
   "execution_count": null,
   "id": "57c81576",
   "metadata": {},
   "outputs": [],
   "source": [
    "df1['ShippingAddress'] = ['HN','BN','HN','TH']\n",
    "df2['ShippingAddress'] = ['HN','HN','BN','BN','BN','HN','TH','TH']"
   ]
  },
  {
   "cell_type": "code",
   "execution_count": null,
   "id": "68a83f93",
   "metadata": {},
   "outputs": [],
   "source": [
    "pd.merge(df1,df2,left_on='orderID1',right_on = 'orderID',how='left')"
   ]
  },
  {
   "cell_type": "code",
   "execution_count": null,
   "id": "1e9facca",
   "metadata": {},
   "outputs": [],
   "source": [
    "pd.merge(df1,df2,left_on='orderID1',\\\n",
    "         right_on = 'orderID',how='left'\\\n",
    "         ,suffixes = ['_left','_right'])"
   ]
  },
  {
   "cell_type": "markdown",
   "id": "6b397063",
   "metadata": {},
   "source": [
    "Merging on Index\n",
    "- we can pass left_index = True or right_index = True ( or both) to indicate that the index should be used as the merge key"
   ]
  },
  {
   "cell_type": "code",
   "execution_count": null,
   "id": "1afceafc",
   "metadata": {},
   "outputs": [],
   "source": [
    "df1 = df1.set_index('orderID1')\n",
    "pd.merge(df1,df2,left_index = True, right_on = 'orderID')"
   ]
  },
  {
   "cell_type": "code",
   "execution_count": null,
   "id": "d26b66cc",
   "metadata": {},
   "outputs": [],
   "source": [
    "# df1 = df1.set_index('orderID1')\n",
    "pd.merge(df1,df2.set_index('orderID'),left_index = True, right_index=True)"
   ]
  },
  {
   "cell_type": "code",
   "execution_count": null,
   "id": "1a9a2eda",
   "metadata": {},
   "outputs": [],
   "source": [
    "df1 = df1.set_index('orderID1')\n",
    "pd.merge(df1,df2,left_index = True, right_on = 'orderID')"
   ]
  },
  {
   "cell_type": "markdown",
   "id": "d1b50b9c",
   "metadata": {},
   "source": [
    "DataFrame has a convenient join instance for merging by index\n",
    "- It can be used to combine together many DataFrame objects having the same or similar indexes but non-overlapping column"
   ]
  },
  {
   "cell_type": "code",
   "execution_count": null,
   "id": "a89901aa",
   "metadata": {},
   "outputs": [],
   "source": [
    "df1.drop('ShippingAddress',axis=1).join(df2.set_index('orderID')\\\n",
    "                                        .drop('ShippingAddress',axis=1))"
   ]
  },
  {
   "cell_type": "markdown",
   "id": "e458cd4f",
   "metadata": {},
   "source": [
    "pd.concat()"
   ]
  },
  {
   "cell_type": "code",
   "execution_count": null,
   "id": "1c0d653a",
   "metadata": {},
   "outputs": [],
   "source": [
    "import numpy as np"
   ]
  },
  {
   "cell_type": "code",
   "execution_count": null,
   "id": "43c35641",
   "metadata": {},
   "outputs": [],
   "source": [
    "df1 = pd.DataFrame(np.arange(6).reshape(3,2),index=['a','b','c'],\\\n",
    "                  columns = ['one','two'])\n",
    "df2 = pd.DataFrame(5 + np.arange(4).reshape(2,2),index = ['a','c'],\\\n",
    "                  columns = ['one','two'])\n",
    "pd.concat([df1,df2],axis=0)"
   ]
  },
  {
   "cell_type": "code",
   "execution_count": null,
   "id": "a069a428",
   "metadata": {},
   "outputs": [],
   "source": [
    "df1"
   ]
  },
  {
   "cell_type": "code",
   "execution_count": null,
   "id": "63394d13",
   "metadata": {},
   "outputs": [],
   "source": [
    "df2.columns = ['a','two']\n",
    "df2"
   ]
  },
  {
   "cell_type": "code",
   "execution_count": null,
   "id": "996ee07d",
   "metadata": {},
   "outputs": [],
   "source": [
    "pd.concat([df1,df2],axis=0).reset_index()"
   ]
  },
  {
   "cell_type": "code",
   "execution_count": null,
   "id": "df81d8b9",
   "metadata": {},
   "outputs": [],
   "source": [
    "df2.columns = ['three','four']\n",
    "pd.concat([df1,df2],axis=1)"
   ]
  },
  {
   "cell_type": "code",
   "execution_count": null,
   "id": "f8bf4db2",
   "metadata": {},
   "outputs": [],
   "source": [
    "df2"
   ]
  },
  {
   "cell_type": "code",
   "execution_count": null,
   "id": "d97db631",
   "metadata": {},
   "outputs": [],
   "source": [
    "pd.concat([df1,df2],axis=1)"
   ]
  },
  {
   "cell_type": "code",
   "execution_count": null,
   "id": "6086d4e0",
   "metadata": {},
   "outputs": [],
   "source": [
    "pd.concat([df1,df2],axis=1,join='inner')"
   ]
  }
 ],
 "metadata": {
  "kernelspec": {
   "display_name": "Python 3 (ipykernel)",
   "language": "python",
   "name": "python3"
  },
  "language_info": {
   "codemirror_mode": {
    "name": "ipython",
    "version": 3
   },
   "file_extension": ".py",
   "mimetype": "text/x-python",
   "name": "python",
   "nbconvert_exporter": "python",
   "pygments_lexer": "ipython3",
   "version": "3.9.7"
  }
 },
 "nbformat": 4,
 "nbformat_minor": 5
}
