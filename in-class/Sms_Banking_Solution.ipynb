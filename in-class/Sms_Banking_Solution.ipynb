{
 "cells": [
  {
   "cell_type": "code",
   "execution_count": 16,
   "id": "484557a8",
   "metadata": {},
   "outputs": [],
   "source": [
    "import pandas as pd\n",
    "import numpy as np\n",
    "df = pd.read_csv('../Data/sms_banking.csv',header=None)"
   ]
  },
  {
   "cell_type": "code",
   "execution_count": 17,
   "id": "6cb82f6d",
   "metadata": {},
   "outputs": [],
   "source": [
    "pd.set_option('display.max_colwidth', None)###None: Not limit colwidth"
   ]
  },
  {
   "cell_type": "code",
   "execution_count": 18,
   "id": "a80a5a48",
   "metadata": {},
   "outputs": [],
   "source": [
    "df.columns = ['content']"
   ]
  },
  {
   "cell_type": "markdown",
   "id": "9fabd9db",
   "metadata": {},
   "source": [
    "###tao 1 dataframe chua cac thong tin sau:\n",
    "Date, Debit(ghi no), Credit (ghi co), Balance (so du)"
   ]
  },
  {
   "cell_type": "code",
   "execution_count": 19,
   "id": "e975a68a",
   "metadata": {},
   "outputs": [
    {
     "data": {
      "text/html": [
       "<div>\n",
       "<style scoped>\n",
       "    .dataframe tbody tr th:only-of-type {\n",
       "        vertical-align: middle;\n",
       "    }\n",
       "\n",
       "    .dataframe tbody tr th {\n",
       "        vertical-align: top;\n",
       "    }\n",
       "\n",
       "    .dataframe thead th {\n",
       "        text-align: right;\n",
       "    }\n",
       "</style>\n",
       "<table border=\"1\" class=\"dataframe\">\n",
       "  <thead>\n",
       "    <tr style=\"text-align: right;\">\n",
       "      <th></th>\n",
       "      <th>content</th>\n",
       "    </tr>\n",
       "  </thead>\n",
       "  <tbody>\n",
       "    <tr>\n",
       "      <th>0</th>\n",
       "      <td>Nhap ma OTP 6190 de xac nhan chuyen 6.170.000 VND cho NGUYEN THI BICH THU,so tai khoan 0560109234007, phi GD 0 VND. Quy khach KHONG CUNG CAP OTP cho bat ky ai.</td>\n",
       "    </tr>\n",
       "    <tr>\n",
       "      <th>1</th>\n",
       "      <td>TK ViettelPay 9704...0765 GD -525,000 VND luc 2021-12-28 19:57:48 So du 1,127,637 VND Phi: -0 VND ND: GD chuyen tien 211228799060765 016537 ck</td>\n",
       "    </tr>\n",
       "    <tr>\n",
       "      <th>2</th>\n",
       "      <td>TK ViettelPay 9704...0765 GD +1,232,043 VND luc 2021-12-27 13:31:26 So du 1,652,637 VND  ND: GD nhan tien 195805</td>\n",
       "    </tr>\n",
       "    <tr>\n",
       "      <th>3</th>\n",
       "      <td>SD TK 0011004331555 +49,990,000VND luc 20-08-2022 11:02:01. SD 50,568,970VND. Ref 020097042308201102002022d7d1985460.79636.110201.CHUYEN KHOAN</td>\n",
       "    </tr>\n",
       "    <tr>\n",
       "      <th>4</th>\n",
       "      <td>Ma OTP xac thuc GD la 389235, hieu luc 1 phut. Chi tiet GD: Chuyen khoan nhanh qua so TK, so tien 864,439 VND tren kenh Mobile cua dich vu VCB Digibank.</td>\n",
       "    </tr>\n",
       "    <tr>\n",
       "      <th>5</th>\n",
       "      <td>SD TK 0011004331555 -864,439VND luc 20-08-2022 19:39:54. SD 49,124,531VND. Ref MBVCB.2361079139.085523. Lan chuyen tien.CT tu 001100433155...</td>\n",
       "    </tr>\n",
       "    <tr>\n",
       "      <th>6</th>\n",
       "      <td>Thu phi thuong nien the Visa Debit, tu thang 06/2022 den thang 06/2022, No 428310...3712. So tien 5000 VND. So du tai thoi diem gd 49,119,531 VND</td>\n",
       "    </tr>\n",
       "  </tbody>\n",
       "</table>\n",
       "</div>"
      ],
      "text/plain": [
       "                                                                                                                                                           content\n",
       "0  Nhap ma OTP 6190 de xac nhan chuyen 6.170.000 VND cho NGUYEN THI BICH THU,so tai khoan 0560109234007, phi GD 0 VND. Quy khach KHONG CUNG CAP OTP cho bat ky ai.\n",
       "1                   TK ViettelPay 9704...0765 GD -525,000 VND luc 2021-12-28 19:57:48 So du 1,127,637 VND Phi: -0 VND ND: GD chuyen tien 211228799060765 016537 ck\n",
       "2                                                 TK ViettelPay 9704...0765 GD +1,232,043 VND luc 2021-12-27 13:31:26 So du 1,652,637 VND  ND: GD nhan tien 195805\n",
       "3                   SD TK 0011004331555 +49,990,000VND luc 20-08-2022 11:02:01. SD 50,568,970VND. Ref 020097042308201102002022d7d1985460.79636.110201.CHUYEN KHOAN\n",
       "4         Ma OTP xac thuc GD la 389235, hieu luc 1 phut. Chi tiet GD: Chuyen khoan nhanh qua so TK, so tien 864,439 VND tren kenh Mobile cua dich vu VCB Digibank.\n",
       "5                    SD TK 0011004331555 -864,439VND luc 20-08-2022 19:39:54. SD 49,124,531VND. Ref MBVCB.2361079139.085523. Lan chuyen tien.CT tu 001100433155...\n",
       "6                Thu phi thuong nien the Visa Debit, tu thang 06/2022 den thang 06/2022, No 428310...3712. So tien 5000 VND. So du tai thoi diem gd 49,119,531 VND"
      ]
     },
     "execution_count": 19,
     "metadata": {},
     "output_type": "execute_result"
    }
   ],
   "source": [
    "df"
   ]
  },
  {
   "cell_type": "code",
   "execution_count": 5,
   "id": "1ea0f837",
   "metadata": {},
   "outputs": [],
   "source": [
    "import re"
   ]
  },
  {
   "cell_type": "code",
   "execution_count": 20,
   "id": "bd31fd26",
   "metadata": {},
   "outputs": [],
   "source": [
    "df['content']=df['content'].str.replace(',','')"
   ]
  },
  {
   "cell_type": "code",
   "execution_count": 21,
   "id": "f9ae8407",
   "metadata": {},
   "outputs": [
    {
     "data": {
      "text/html": [
       "<div>\n",
       "<style scoped>\n",
       "    .dataframe tbody tr th:only-of-type {\n",
       "        vertical-align: middle;\n",
       "    }\n",
       "\n",
       "    .dataframe tbody tr th {\n",
       "        vertical-align: top;\n",
       "    }\n",
       "\n",
       "    .dataframe thead th {\n",
       "        text-align: right;\n",
       "    }\n",
       "</style>\n",
       "<table border=\"1\" class=\"dataframe\">\n",
       "  <thead>\n",
       "    <tr style=\"text-align: right;\">\n",
       "      <th></th>\n",
       "      <th>content</th>\n",
       "    </tr>\n",
       "  </thead>\n",
       "  <tbody>\n",
       "    <tr>\n",
       "      <th>0</th>\n",
       "      <td>Nhap ma OTP 6190 de xac nhan chuyen 6.170.000 VND cho NGUYEN THI BICH THUso tai khoan 0560109234007 phi GD 0 VND. Quy khach KHONG CUNG CAP OTP cho bat ky ai.</td>\n",
       "    </tr>\n",
       "    <tr>\n",
       "      <th>1</th>\n",
       "      <td>TK ViettelPay 9704...0765 GD -525000 VND luc 2021-12-28 19:57:48 So du 1127637 VND Phi: -0 VND ND: GD chuyen tien 211228799060765 016537 ck</td>\n",
       "    </tr>\n",
       "    <tr>\n",
       "      <th>2</th>\n",
       "      <td>TK ViettelPay 9704...0765 GD +1232043 VND luc 2021-12-27 13:31:26 So du 1652637 VND  ND: GD nhan tien 195805</td>\n",
       "    </tr>\n",
       "    <tr>\n",
       "      <th>3</th>\n",
       "      <td>SD TK 0011004331555 +49990000VND luc 20-08-2022 11:02:01. SD 50568970VND. Ref 020097042308201102002022d7d1985460.79636.110201.CHUYEN KHOAN</td>\n",
       "    </tr>\n",
       "    <tr>\n",
       "      <th>4</th>\n",
       "      <td>Ma OTP xac thuc GD la 389235 hieu luc 1 phut. Chi tiet GD: Chuyen khoan nhanh qua so TK so tien 864439 VND tren kenh Mobile cua dich vu VCB Digibank.</td>\n",
       "    </tr>\n",
       "    <tr>\n",
       "      <th>5</th>\n",
       "      <td>SD TK 0011004331555 -864439VND luc 20-08-2022 19:39:54. SD 49124531VND. Ref MBVCB.2361079139.085523. Lan chuyen tien.CT tu 001100433155...</td>\n",
       "    </tr>\n",
       "    <tr>\n",
       "      <th>6</th>\n",
       "      <td>Thu phi thuong nien the Visa Debit tu thang 06/2022 den thang 06/2022 No 428310...3712. So tien 5000 VND. So du tai thoi diem gd 49119531 VND</td>\n",
       "    </tr>\n",
       "  </tbody>\n",
       "</table>\n",
       "</div>"
      ],
      "text/plain": [
       "                                                                                                                                                         content\n",
       "0  Nhap ma OTP 6190 de xac nhan chuyen 6.170.000 VND cho NGUYEN THI BICH THUso tai khoan 0560109234007 phi GD 0 VND. Quy khach KHONG CUNG CAP OTP cho bat ky ai.\n",
       "1                    TK ViettelPay 9704...0765 GD -525000 VND luc 2021-12-28 19:57:48 So du 1127637 VND Phi: -0 VND ND: GD chuyen tien 211228799060765 016537 ck\n",
       "2                                                   TK ViettelPay 9704...0765 GD +1232043 VND luc 2021-12-27 13:31:26 So du 1652637 VND  ND: GD nhan tien 195805\n",
       "3                     SD TK 0011004331555 +49990000VND luc 20-08-2022 11:02:01. SD 50568970VND. Ref 020097042308201102002022d7d1985460.79636.110201.CHUYEN KHOAN\n",
       "4          Ma OTP xac thuc GD la 389235 hieu luc 1 phut. Chi tiet GD: Chuyen khoan nhanh qua so TK so tien 864439 VND tren kenh Mobile cua dich vu VCB Digibank.\n",
       "5                     SD TK 0011004331555 -864439VND luc 20-08-2022 19:39:54. SD 49124531VND. Ref MBVCB.2361079139.085523. Lan chuyen tien.CT tu 001100433155...\n",
       "6                  Thu phi thuong nien the Visa Debit tu thang 06/2022 den thang 06/2022 No 428310...3712. So tien 5000 VND. So du tai thoi diem gd 49119531 VND"
      ]
     },
     "execution_count": 21,
     "metadata": {},
     "output_type": "execute_result"
    }
   ],
   "source": [
    "df"
   ]
  },
  {
   "cell_type": "code",
   "execution_count": 23,
   "id": "9daca4f9",
   "metadata": {},
   "outputs": [
    {
     "data": {
      "text/html": [
       "<div>\n",
       "<style scoped>\n",
       "    .dataframe tbody tr th:only-of-type {\n",
       "        vertical-align: middle;\n",
       "    }\n",
       "\n",
       "    .dataframe tbody tr th {\n",
       "        vertical-align: top;\n",
       "    }\n",
       "\n",
       "    .dataframe thead th {\n",
       "        text-align: right;\n",
       "    }\n",
       "</style>\n",
       "<table border=\"1\" class=\"dataframe\">\n",
       "  <thead>\n",
       "    <tr style=\"text-align: right;\">\n",
       "      <th></th>\n",
       "      <th></th>\n",
       "      <th>Trans_Amount</th>\n",
       "      <th>Date</th>\n",
       "      <th>2</th>\n",
       "      <th>Balance</th>\n",
       "    </tr>\n",
       "    <tr>\n",
       "      <th></th>\n",
       "      <th>match</th>\n",
       "      <th></th>\n",
       "      <th></th>\n",
       "      <th></th>\n",
       "      <th></th>\n",
       "    </tr>\n",
       "  </thead>\n",
       "  <tbody>\n",
       "    <tr>\n",
       "      <th>1</th>\n",
       "      <th>0</th>\n",
       "      <td>-525000</td>\n",
       "      <td>2021-12-28 19:57:48</td>\n",
       "      <td>8</td>\n",
       "      <td>1127637</td>\n",
       "    </tr>\n",
       "    <tr>\n",
       "      <th>2</th>\n",
       "      <th>0</th>\n",
       "      <td>+1232043</td>\n",
       "      <td>2021-12-27 13:31:26</td>\n",
       "      <td>6</td>\n",
       "      <td>1652637</td>\n",
       "    </tr>\n",
       "  </tbody>\n",
       "</table>\n",
       "</div>"
      ],
      "text/plain": [
       "        Trans_Amount                  Date  2  Balance\n",
       "  match                                               \n",
       "1 0          -525000   2021-12-28 19:57:48  8  1127637\n",
       "2 0         +1232043   2021-12-27 13:31:26  6  1652637"
      ]
     },
     "execution_count": 23,
     "metadata": {},
     "output_type": "execute_result"
    }
   ],
   "source": [
    "###giao dich cong, tru \n",
    "pattern = r'TK ViettelPay .+ GD (?P<Trans_Amount>[+|-]\\d+) VND luc(?P<Date>(\\d|-|\\s|:)+) So du (?P<Balance>\\d+)'\n",
    "content_df2 = df['content'].str.extractall(pattern, flags=re.IGNORECASE)\n",
    "content_df2"
   ]
  },
  {
   "cell_type": "code",
   "execution_count": 9,
   "id": "1c1d638d",
   "metadata": {},
   "outputs": [],
   "source": [
    "###giao dich cong, tru \n",
    "pattern = r'SD TK \\d+ (?P<Trans_Amount>[+|-]\\d+)VND luc (?P<Date>(\\d|-|\\s|:)+). SD (?P<Balance>\\d+)'\n",
    "content_df1 = df['content'].str.extractall(pattern, flags=re.IGNORECASE)"
   ]
  },
  {
   "cell_type": "code",
   "execution_count": 10,
   "id": "c2db600a",
   "metadata": {},
   "outputs": [
    {
     "data": {
      "text/html": [
       "<div>\n",
       "<style scoped>\n",
       "    .dataframe tbody tr th:only-of-type {\n",
       "        vertical-align: middle;\n",
       "    }\n",
       "\n",
       "    .dataframe tbody tr th {\n",
       "        vertical-align: top;\n",
       "    }\n",
       "\n",
       "    .dataframe thead th {\n",
       "        text-align: right;\n",
       "    }\n",
       "</style>\n",
       "<table border=\"1\" class=\"dataframe\">\n",
       "  <thead>\n",
       "    <tr style=\"text-align: right;\">\n",
       "      <th></th>\n",
       "      <th></th>\n",
       "      <th>Trans_Amount</th>\n",
       "      <th>Date</th>\n",
       "      <th>2</th>\n",
       "      <th>Balance</th>\n",
       "    </tr>\n",
       "    <tr>\n",
       "      <th></th>\n",
       "      <th>match</th>\n",
       "      <th></th>\n",
       "      <th></th>\n",
       "      <th></th>\n",
       "      <th></th>\n",
       "    </tr>\n",
       "  </thead>\n",
       "  <tbody>\n",
       "    <tr>\n",
       "      <th>3</th>\n",
       "      <th>0</th>\n",
       "      <td>+49990000</td>\n",
       "      <td>20-08-2022 11:02:01</td>\n",
       "      <td>1</td>\n",
       "      <td>50568970</td>\n",
       "    </tr>\n",
       "    <tr>\n",
       "      <th>5</th>\n",
       "      <th>0</th>\n",
       "      <td>-864439</td>\n",
       "      <td>20-08-2022 19:39:54</td>\n",
       "      <td>4</td>\n",
       "      <td>49124531</td>\n",
       "    </tr>\n",
       "  </tbody>\n",
       "</table>\n",
       "</div>"
      ],
      "text/plain": [
       "        Trans_Amount                 Date  2   Balance\n",
       "  match                                               \n",
       "3 0        +49990000  20-08-2022 11:02:01  1  50568970\n",
       "5 0          -864439  20-08-2022 19:39:54  4  49124531"
      ]
     },
     "execution_count": 10,
     "metadata": {},
     "output_type": "execute_result"
    }
   ],
   "source": [
    "content_df1"
   ]
  },
  {
   "cell_type": "code",
   "execution_count": 12,
   "id": "6b8cd4d9",
   "metadata": {},
   "outputs": [
    {
     "data": {
      "text/html": [
       "<div>\n",
       "<style scoped>\n",
       "    .dataframe tbody tr th:only-of-type {\n",
       "        vertical-align: middle;\n",
       "    }\n",
       "\n",
       "    .dataframe tbody tr th {\n",
       "        vertical-align: top;\n",
       "    }\n",
       "\n",
       "    .dataframe thead th {\n",
       "        text-align: right;\n",
       "    }\n",
       "</style>\n",
       "<table border=\"1\" class=\"dataframe\">\n",
       "  <thead>\n",
       "    <tr style=\"text-align: right;\">\n",
       "      <th></th>\n",
       "      <th></th>\n",
       "      <th>Trans_Amount</th>\n",
       "      <th>Date</th>\n",
       "      <th>Balance</th>\n",
       "    </tr>\n",
       "    <tr>\n",
       "      <th></th>\n",
       "      <th>match</th>\n",
       "      <th></th>\n",
       "      <th></th>\n",
       "      <th></th>\n",
       "    </tr>\n",
       "  </thead>\n",
       "  <tbody>\n",
       "    <tr>\n",
       "      <th>3</th>\n",
       "      <th>0</th>\n",
       "      <td>+49990000</td>\n",
       "      <td>20-08-2022 11:02:01</td>\n",
       "      <td>50568970</td>\n",
       "    </tr>\n",
       "    <tr>\n",
       "      <th>5</th>\n",
       "      <th>0</th>\n",
       "      <td>-864439</td>\n",
       "      <td>20-08-2022 19:39:54</td>\n",
       "      <td>49124531</td>\n",
       "    </tr>\n",
       "  </tbody>\n",
       "</table>\n",
       "</div>"
      ],
      "text/plain": [
       "        Trans_Amount                 Date   Balance\n",
       "  match                                            \n",
       "3 0        +49990000  20-08-2022 11:02:01  50568970\n",
       "5 0          -864439  20-08-2022 19:39:54  49124531"
      ]
     },
     "execution_count": 12,
     "metadata": {},
     "output_type": "execute_result"
    }
   ],
   "source": [
    "result = pd.concat([content_df1,content_df2],axis=0).drop(2,axis=1)\n",
    "result"
   ]
  },
  {
   "cell_type": "code",
   "execution_count": 13,
   "id": "68301b9c",
   "metadata": {},
   "outputs": [
    {
     "data": {
      "text/html": [
       "<div>\n",
       "<style scoped>\n",
       "    .dataframe tbody tr th:only-of-type {\n",
       "        vertical-align: middle;\n",
       "    }\n",
       "\n",
       "    .dataframe tbody tr th {\n",
       "        vertical-align: top;\n",
       "    }\n",
       "\n",
       "    .dataframe thead th {\n",
       "        text-align: right;\n",
       "    }\n",
       "</style>\n",
       "<table border=\"1\" class=\"dataframe\">\n",
       "  <thead>\n",
       "    <tr style=\"text-align: right;\">\n",
       "      <th></th>\n",
       "      <th></th>\n",
       "      <th>Trans_Amount</th>\n",
       "      <th>Date</th>\n",
       "      <th>Balance</th>\n",
       "      <th>Trans Type</th>\n",
       "    </tr>\n",
       "    <tr>\n",
       "      <th></th>\n",
       "      <th>match</th>\n",
       "      <th></th>\n",
       "      <th></th>\n",
       "      <th></th>\n",
       "      <th></th>\n",
       "    </tr>\n",
       "  </thead>\n",
       "  <tbody>\n",
       "    <tr>\n",
       "      <th>3</th>\n",
       "      <th>0</th>\n",
       "      <td>+49990000</td>\n",
       "      <td>20-08-2022 11:02:01</td>\n",
       "      <td>50568970</td>\n",
       "      <td>Credit</td>\n",
       "    </tr>\n",
       "    <tr>\n",
       "      <th>5</th>\n",
       "      <th>0</th>\n",
       "      <td>-864439</td>\n",
       "      <td>20-08-2022 19:39:54</td>\n",
       "      <td>49124531</td>\n",
       "      <td>Debit</td>\n",
       "    </tr>\n",
       "  </tbody>\n",
       "</table>\n",
       "</div>"
      ],
      "text/plain": [
       "        Trans_Amount                 Date   Balance Trans Type\n",
       "  match                                                       \n",
       "3 0        +49990000  20-08-2022 11:02:01  50568970     Credit\n",
       "5 0          -864439  20-08-2022 19:39:54  49124531      Debit"
      ]
     },
     "execution_count": 13,
     "metadata": {},
     "output_type": "execute_result"
    }
   ],
   "source": [
    "result['Trans Type'] = result['Trans_Amount'].apply(lambda x: 'Debit' if '-' in x else 'Credit')\n",
    "result"
   ]
  },
  {
   "cell_type": "code",
   "execution_count": 14,
   "id": "be6f4643",
   "metadata": {},
   "outputs": [],
   "source": [
    "result['Trans_Amount'] = result['Trans_Amount'].str.replace(r'[+|-]','',regex=True).astype('float')"
   ]
  },
  {
   "cell_type": "code",
   "execution_count": 15,
   "id": "8036e038",
   "metadata": {},
   "outputs": [
    {
     "data": {
      "text/html": [
       "<div>\n",
       "<style scoped>\n",
       "    .dataframe tbody tr th:only-of-type {\n",
       "        vertical-align: middle;\n",
       "    }\n",
       "\n",
       "    .dataframe tbody tr th {\n",
       "        vertical-align: top;\n",
       "    }\n",
       "\n",
       "    .dataframe thead th {\n",
       "        text-align: right;\n",
       "    }\n",
       "</style>\n",
       "<table border=\"1\" class=\"dataframe\">\n",
       "  <thead>\n",
       "    <tr style=\"text-align: right;\">\n",
       "      <th></th>\n",
       "      <th></th>\n",
       "      <th>Trans_Amount</th>\n",
       "      <th>Date</th>\n",
       "      <th>Balance</th>\n",
       "      <th>Trans Type</th>\n",
       "    </tr>\n",
       "    <tr>\n",
       "      <th></th>\n",
       "      <th>match</th>\n",
       "      <th></th>\n",
       "      <th></th>\n",
       "      <th></th>\n",
       "      <th></th>\n",
       "    </tr>\n",
       "  </thead>\n",
       "  <tbody>\n",
       "    <tr>\n",
       "      <th>3</th>\n",
       "      <th>0</th>\n",
       "      <td>49990000.0</td>\n",
       "      <td>20-08-2022 11:02:01</td>\n",
       "      <td>50568970</td>\n",
       "      <td>Credit</td>\n",
       "    </tr>\n",
       "    <tr>\n",
       "      <th>5</th>\n",
       "      <th>0</th>\n",
       "      <td>864439.0</td>\n",
       "      <td>20-08-2022 19:39:54</td>\n",
       "      <td>49124531</td>\n",
       "      <td>Debit</td>\n",
       "    </tr>\n",
       "  </tbody>\n",
       "</table>\n",
       "</div>"
      ],
      "text/plain": [
       "         Trans_Amount                 Date   Balance Trans Type\n",
       "  match                                                        \n",
       "3 0        49990000.0  20-08-2022 11:02:01  50568970     Credit\n",
       "5 0          864439.0  20-08-2022 19:39:54  49124531      Debit"
      ]
     },
     "execution_count": 15,
     "metadata": {},
     "output_type": "execute_result"
    }
   ],
   "source": [
    "result"
   ]
  }
 ],
 "metadata": {
  "kernelspec": {
   "display_name": "Python 3 (ipykernel)",
   "language": "python",
   "name": "python3"
  },
  "language_info": {
   "codemirror_mode": {
    "name": "ipython",
    "version": 3
   },
   "file_extension": ".py",
   "mimetype": "text/x-python",
   "name": "python",
   "nbconvert_exporter": "python",
   "pygments_lexer": "ipython3",
   "version": "3.9.7"
  }
 },
 "nbformat": 4,
 "nbformat_minor": 5
}
